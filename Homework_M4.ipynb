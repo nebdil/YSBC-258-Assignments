{
  "nbformat": 4,
  "nbformat_minor": 0,
  "metadata": {
    "colab": {
      "name": "Homework M4 Dilan Nebioglu.ipynb",
      "provenance": [],
      "collapsed_sections": [
        "gAKImG457HBU",
        "gpTOZ-7L7NQL",
        "woLykLxJ7UXd",
        "UUL2wjg97h1Z",
        "ZUqrAzBvAi6b"
      ]
    },
    "kernelspec": {
      "name": "python3",
      "display_name": "Python 3"
    },
    "accelerator": "GPU"
  },
  "cells": [
    {
      "cell_type": "markdown",
      "metadata": {
        "id": "3kyBPdCftP-2"
      },
      "source": [
        "# Homework RNNs\n",
        "1. Download and explore data\n",
        "2. Preproceess data if needed\n",
        "3. Create a dataset with group of inputs of some size (between 10 and 50) - Similar to this [example](https://colab.research.google.com/drive/1tj0DRWxVvRC7_b7ubQ46zJo4ZuxT4jbW?authuser=1)\n",
        "4. Split the data into train and test\n",
        "5. Use 1 different RNN type"
      ]
    },
    {
      "cell_type": "markdown",
      "metadata": {
        "id": "gAKImG457HBU"
      },
      "source": [
        "# 1. Download and explore data"
      ]
    },
    {
      "cell_type": "code",
      "metadata": {
        "id": "cqjjFsHvtOco",
        "colab": {
          "base_uri": "https://localhost:8080/",
          "height": 391
        },
        "outputId": "f5a443c6-1cc3-402b-c48d-ec1b9ecb2b9e"
      },
      "source": [
        "!wget https://storage.googleapis.com/nicksdemobucket/sunspots.csv\n",
        "\n",
        "# OR\n",
        "\n",
        "!wget https://storage.googleapis.com/nicksdemobucket/temperatures.csv\n",
        "\n",
        "# OR MNIST"
      ],
      "execution_count": null,
      "outputs": [
        {
          "output_type": "stream",
          "text": [
            "--2020-10-27 20:45:13--  https://storage.googleapis.com/nicksdemobucket/sunspots.csv\n",
            "Resolving storage.googleapis.com (storage.googleapis.com)... 172.217.164.176, 172.217.164.144, 172.217.2.112, ...\n",
            "Connecting to storage.googleapis.com (storage.googleapis.com)|172.217.164.176|:443... connected.\n",
            "HTTP request sent, awaiting response... 200 OK\n",
            "Length: 45039 (44K) [application/octet-stream]\n",
            "Saving to: ‘sunspots.csv’\n",
            "\n",
            "\rsunspots.csv          0%[                    ]       0  --.-KB/s               \rsunspots.csv        100%[===================>]  43.98K  --.-KB/s    in 0s      \n",
            "\n",
            "2020-10-27 20:45:13 (102 MB/s) - ‘sunspots.csv’ saved [45039/45039]\n",
            "\n",
            "--2020-10-27 20:45:13--  https://storage.googleapis.com/nicksdemobucket/temperatures.csv\n",
            "Resolving storage.googleapis.com (storage.googleapis.com)... 172.217.7.176, 172.253.122.128, 172.217.7.240, ...\n",
            "Connecting to storage.googleapis.com (storage.googleapis.com)|172.217.7.176|:443... connected.\n",
            "HTTP request sent, awaiting response... 200 OK\n",
            "Length: 67921 (66K) [text/csv]\n",
            "Saving to: ‘temperatures.csv’\n",
            "\n",
            "temperatures.csv    100%[===================>]  66.33K  --.-KB/s    in 0.001s  \n",
            "\n",
            "2020-10-27 20:45:13 (120 MB/s) - ‘temperatures.csv’ saved [67921/67921]\n",
            "\n"
          ],
          "name": "stdout"
        }
      ]
    },
    {
      "cell_type": "code",
      "metadata": {
        "id": "-g-YZuM38Z1D"
      },
      "source": [
        "import pandas as pd\n",
        "import numpy as np"
      ],
      "execution_count": null,
      "outputs": []
    },
    {
      "cell_type": "code",
      "metadata": {
        "id": "iU4V62EgCK09"
      },
      "source": [
        "temperatures_df = pd.read_csv('temperatures.csv')"
      ],
      "execution_count": null,
      "outputs": []
    },
    {
      "cell_type": "code",
      "metadata": {
        "id": "49-k6qBRAimY",
        "colab": {
          "base_uri": "https://localhost:8080/",
          "height": 297
        },
        "outputId": "798df43d-508d-42f8-f12f-e0d262742af4"
      },
      "source": [
        "temperatures_df.describe()"
      ],
      "execution_count": null,
      "outputs": [
        {
          "output_type": "execute_result",
          "data": {
            "text/html": [
              "<div>\n",
              "<style scoped>\n",
              "    .dataframe tbody tr th:only-of-type {\n",
              "        vertical-align: middle;\n",
              "    }\n",
              "\n",
              "    .dataframe tbody tr th {\n",
              "        vertical-align: top;\n",
              "    }\n",
              "\n",
              "    .dataframe thead th {\n",
              "        text-align: right;\n",
              "    }\n",
              "</style>\n",
              "<table border=\"1\" class=\"dataframe\">\n",
              "  <thead>\n",
              "    <tr style=\"text-align: right;\">\n",
              "      <th></th>\n",
              "      <th>Temp</th>\n",
              "    </tr>\n",
              "  </thead>\n",
              "  <tbody>\n",
              "    <tr>\n",
              "      <th>count</th>\n",
              "      <td>3650.000000</td>\n",
              "    </tr>\n",
              "    <tr>\n",
              "      <th>mean</th>\n",
              "      <td>11.177753</td>\n",
              "    </tr>\n",
              "    <tr>\n",
              "      <th>std</th>\n",
              "      <td>4.071837</td>\n",
              "    </tr>\n",
              "    <tr>\n",
              "      <th>min</th>\n",
              "      <td>0.000000</td>\n",
              "    </tr>\n",
              "    <tr>\n",
              "      <th>25%</th>\n",
              "      <td>8.300000</td>\n",
              "    </tr>\n",
              "    <tr>\n",
              "      <th>50%</th>\n",
              "      <td>11.000000</td>\n",
              "    </tr>\n",
              "    <tr>\n",
              "      <th>75%</th>\n",
              "      <td>14.000000</td>\n",
              "    </tr>\n",
              "    <tr>\n",
              "      <th>max</th>\n",
              "      <td>26.300000</td>\n",
              "    </tr>\n",
              "  </tbody>\n",
              "</table>\n",
              "</div>"
            ],
            "text/plain": [
              "              Temp\n",
              "count  3650.000000\n",
              "mean     11.177753\n",
              "std       4.071837\n",
              "min       0.000000\n",
              "25%       8.300000\n",
              "50%      11.000000\n",
              "75%      14.000000\n",
              "max      26.300000"
            ]
          },
          "metadata": {
            "tags": []
          },
          "execution_count": 4
        }
      ]
    },
    {
      "cell_type": "code",
      "metadata": {
        "id": "X0hKFmDV_iYA",
        "colab": {
          "base_uri": "https://localhost:8080/",
          "height": 419
        },
        "outputId": "5c084927-7301-4938-87f4-290f8b776494"
      },
      "source": [
        "temperatures_df"
      ],
      "execution_count": null,
      "outputs": [
        {
          "output_type": "execute_result",
          "data": {
            "text/html": [
              "<div>\n",
              "<style scoped>\n",
              "    .dataframe tbody tr th:only-of-type {\n",
              "        vertical-align: middle;\n",
              "    }\n",
              "\n",
              "    .dataframe tbody tr th {\n",
              "        vertical-align: top;\n",
              "    }\n",
              "\n",
              "    .dataframe thead th {\n",
              "        text-align: right;\n",
              "    }\n",
              "</style>\n",
              "<table border=\"1\" class=\"dataframe\">\n",
              "  <thead>\n",
              "    <tr style=\"text-align: right;\">\n",
              "      <th></th>\n",
              "      <th>Date</th>\n",
              "      <th>Temp</th>\n",
              "    </tr>\n",
              "  </thead>\n",
              "  <tbody>\n",
              "    <tr>\n",
              "      <th>0</th>\n",
              "      <td>1981-01-01</td>\n",
              "      <td>20.7</td>\n",
              "    </tr>\n",
              "    <tr>\n",
              "      <th>1</th>\n",
              "      <td>1981-01-02</td>\n",
              "      <td>17.9</td>\n",
              "    </tr>\n",
              "    <tr>\n",
              "      <th>2</th>\n",
              "      <td>1981-01-03</td>\n",
              "      <td>18.8</td>\n",
              "    </tr>\n",
              "    <tr>\n",
              "      <th>3</th>\n",
              "      <td>1981-01-04</td>\n",
              "      <td>14.6</td>\n",
              "    </tr>\n",
              "    <tr>\n",
              "      <th>4</th>\n",
              "      <td>1981-01-05</td>\n",
              "      <td>15.8</td>\n",
              "    </tr>\n",
              "    <tr>\n",
              "      <th>...</th>\n",
              "      <td>...</td>\n",
              "      <td>...</td>\n",
              "    </tr>\n",
              "    <tr>\n",
              "      <th>3645</th>\n",
              "      <td>1990-12-27</td>\n",
              "      <td>14.0</td>\n",
              "    </tr>\n",
              "    <tr>\n",
              "      <th>3646</th>\n",
              "      <td>1990-12-28</td>\n",
              "      <td>13.6</td>\n",
              "    </tr>\n",
              "    <tr>\n",
              "      <th>3647</th>\n",
              "      <td>1990-12-29</td>\n",
              "      <td>13.5</td>\n",
              "    </tr>\n",
              "    <tr>\n",
              "      <th>3648</th>\n",
              "      <td>1990-12-30</td>\n",
              "      <td>15.7</td>\n",
              "    </tr>\n",
              "    <tr>\n",
              "      <th>3649</th>\n",
              "      <td>1990-12-31</td>\n",
              "      <td>13.0</td>\n",
              "    </tr>\n",
              "  </tbody>\n",
              "</table>\n",
              "<p>3650 rows × 2 columns</p>\n",
              "</div>"
            ],
            "text/plain": [
              "            Date  Temp\n",
              "0     1981-01-01  20.7\n",
              "1     1981-01-02  17.9\n",
              "2     1981-01-03  18.8\n",
              "3     1981-01-04  14.6\n",
              "4     1981-01-05  15.8\n",
              "...          ...   ...\n",
              "3645  1990-12-27  14.0\n",
              "3646  1990-12-28  13.6\n",
              "3647  1990-12-29  13.5\n",
              "3648  1990-12-30  15.7\n",
              "3649  1990-12-31  13.0\n",
              "\n",
              "[3650 rows x 2 columns]"
            ]
          },
          "metadata": {
            "tags": []
          },
          "execution_count": 5
        }
      ]
    },
    {
      "cell_type": "code",
      "metadata": {
        "id": "_LXpcKBvAT0z",
        "colab": {
          "base_uri": "https://localhost:8080/",
          "height": 34
        },
        "outputId": "76cb5ed7-b279-439c-818d-86842e485427"
      },
      "source": [
        "temperatures_df.shape"
      ],
      "execution_count": null,
      "outputs": [
        {
          "output_type": "execute_result",
          "data": {
            "text/plain": [
              "(3650, 2)"
            ]
          },
          "metadata": {
            "tags": []
          },
          "execution_count": 6
        }
      ]
    },
    {
      "cell_type": "markdown",
      "metadata": {
        "id": "gpTOZ-7L7NQL"
      },
      "source": [
        "# 2. Preproceess data if needed"
      ]
    },
    {
      "cell_type": "code",
      "metadata": {
        "id": "9pnYSM2AC1nR",
        "colab": {
          "base_uri": "https://localhost:8080/",
          "height": 450
        },
        "outputId": "b48585fa-9a11-4f3b-a774-7341de93dd71"
      },
      "source": [
        "temperatures_df['Date'] = pd.to_datetime(temperatures_df['Date'])\n",
        "temperature_df_date_with_index = temperatures_df.set_index('Date')\n",
        "temperature_df_date_with_index"
      ],
      "execution_count": null,
      "outputs": [
        {
          "output_type": "execute_result",
          "data": {
            "text/html": [
              "<div>\n",
              "<style scoped>\n",
              "    .dataframe tbody tr th:only-of-type {\n",
              "        vertical-align: middle;\n",
              "    }\n",
              "\n",
              "    .dataframe tbody tr th {\n",
              "        vertical-align: top;\n",
              "    }\n",
              "\n",
              "    .dataframe thead th {\n",
              "        text-align: right;\n",
              "    }\n",
              "</style>\n",
              "<table border=\"1\" class=\"dataframe\">\n",
              "  <thead>\n",
              "    <tr style=\"text-align: right;\">\n",
              "      <th></th>\n",
              "      <th>Temp</th>\n",
              "    </tr>\n",
              "    <tr>\n",
              "      <th>Date</th>\n",
              "      <th></th>\n",
              "    </tr>\n",
              "  </thead>\n",
              "  <tbody>\n",
              "    <tr>\n",
              "      <th>1981-01-01</th>\n",
              "      <td>20.7</td>\n",
              "    </tr>\n",
              "    <tr>\n",
              "      <th>1981-01-02</th>\n",
              "      <td>17.9</td>\n",
              "    </tr>\n",
              "    <tr>\n",
              "      <th>1981-01-03</th>\n",
              "      <td>18.8</td>\n",
              "    </tr>\n",
              "    <tr>\n",
              "      <th>1981-01-04</th>\n",
              "      <td>14.6</td>\n",
              "    </tr>\n",
              "    <tr>\n",
              "      <th>1981-01-05</th>\n",
              "      <td>15.8</td>\n",
              "    </tr>\n",
              "    <tr>\n",
              "      <th>...</th>\n",
              "      <td>...</td>\n",
              "    </tr>\n",
              "    <tr>\n",
              "      <th>1990-12-27</th>\n",
              "      <td>14.0</td>\n",
              "    </tr>\n",
              "    <tr>\n",
              "      <th>1990-12-28</th>\n",
              "      <td>13.6</td>\n",
              "    </tr>\n",
              "    <tr>\n",
              "      <th>1990-12-29</th>\n",
              "      <td>13.5</td>\n",
              "    </tr>\n",
              "    <tr>\n",
              "      <th>1990-12-30</th>\n",
              "      <td>15.7</td>\n",
              "    </tr>\n",
              "    <tr>\n",
              "      <th>1990-12-31</th>\n",
              "      <td>13.0</td>\n",
              "    </tr>\n",
              "  </tbody>\n",
              "</table>\n",
              "<p>3650 rows × 1 columns</p>\n",
              "</div>"
            ],
            "text/plain": [
              "            Temp\n",
              "Date            \n",
              "1981-01-01  20.7\n",
              "1981-01-02  17.9\n",
              "1981-01-03  18.8\n",
              "1981-01-04  14.6\n",
              "1981-01-05  15.8\n",
              "...          ...\n",
              "1990-12-27  14.0\n",
              "1990-12-28  13.6\n",
              "1990-12-29  13.5\n",
              "1990-12-30  15.7\n",
              "1990-12-31  13.0\n",
              "\n",
              "[3650 rows x 1 columns]"
            ]
          },
          "metadata": {
            "tags": []
          },
          "execution_count": 7
        }
      ]
    },
    {
      "cell_type": "code",
      "metadata": {
        "id": "vnKJT6Z4Eco4",
        "colab": {
          "base_uri": "https://localhost:8080/",
          "height": 34
        },
        "outputId": "de043baf-b3d4-4579-900a-cd7707419233"
      },
      "source": [
        "temperature_df_date_with_index.shape"
      ],
      "execution_count": null,
      "outputs": [
        {
          "output_type": "execute_result",
          "data": {
            "text/plain": [
              "(3650, 1)"
            ]
          },
          "metadata": {
            "tags": []
          },
          "execution_count": 8
        }
      ]
    },
    {
      "cell_type": "code",
      "metadata": {
        "id": "1eYO_0VjEiR9",
        "colab": {
          "base_uri": "https://localhost:8080/",
          "height": 286
        },
        "outputId": "9ad31db3-d10e-43dc-95b4-348155bac6fa"
      },
      "source": [
        "temperature_df_date_with_index.plot()"
      ],
      "execution_count": null,
      "outputs": [
        {
          "output_type": "execute_result",
          "data": {
            "text/plain": [
              "<matplotlib.axes._subplots.AxesSubplot at 0x7fb4580c5208>"
            ]
          },
          "metadata": {
            "tags": []
          },
          "execution_count": 9
        },
        {
          "output_type": "display_data",
          "data": {
            "image/png": "[encoded data removed]",
            "text/plain": [
              "<Figure size 432x288 with 1 Axes>"
            ]
          },
          "metadata": {
            "tags": [],
            "needs_background": "light"
          }
        }
      ]
    },
    {
      "cell_type": "markdown",
      "metadata": {
        "id": "woLykLxJ7UXd"
      },
      "source": [
        "# 3. Create a dataset with group of inputs of some size (between 10 and 50)"
      ]
    },
    {
      "cell_type": "code",
      "metadata": {
        "id": "Kz3ZCSWx-DZU"
      },
      "source": [
        "def sliding_windows(x, size):\n",
        "  for s in range(1, (size + 1)):\n",
        "    x['shift_{}'.format(s)] = x['Temp'].shift(s)"
      ],
      "execution_count": null,
      "outputs": []
    },
    {
      "cell_type": "code",
      "metadata": {
        "id": "9Ilu5USX-Tlc",
        "colab": {
          "base_uri": "https://localhost:8080/",
          "height": 450
        },
        "outputId": "b5ffba6c-b115-4034-ee29-266ec156fc37"
      },
      "source": [
        "sliding_windows(temperature_df_date_with_index, 12)\n",
        "temperature_df_date_with_index"
      ],
      "execution_count": null,
      "outputs": [
        {
          "output_type": "execute_result",
          "data": {
            "text/html": [
              "<div>\n",
              "<style scoped>\n",
              "    .dataframe tbody tr th:only-of-type {\n",
              "        vertical-align: middle;\n",
              "    }\n",
              "\n",
              "    .dataframe tbody tr th {\n",
              "        vertical-align: top;\n",
              "    }\n",
              "\n",
              "    .dataframe thead th {\n",
              "        text-align: right;\n",
              "    }\n",
              "</style>\n",
              "<table border=\"1\" class=\"dataframe\">\n",
              "  <thead>\n",
              "    <tr style=\"text-align: right;\">\n",
              "      <th></th>\n",
              "      <th>Temp</th>\n",
              "      <th>shift_1</th>\n",
              "      <th>shift_2</th>\n",
              "      <th>shift_3</th>\n",
              "      <th>shift_4</th>\n",
              "      <th>shift_5</th>\n",
              "      <th>shift_6</th>\n",
              "      <th>shift_7</th>\n",
              "      <th>shift_8</th>\n",
              "      <th>shift_9</th>\n",
              "      <th>shift_10</th>\n",
              "      <th>shift_11</th>\n",
              "      <th>shift_12</th>\n",
              "    </tr>\n",
              "    <tr>\n",
              "      <th>Date</th>\n",
              "      <th></th>\n",
              "      <th></th>\n",
              "      <th></th>\n",
              "      <th></th>\n",
              "      <th></th>\n",
              "      <th></th>\n",
              "      <th></th>\n",
              "      <th></th>\n",
              "      <th></th>\n",
              "      <th></th>\n",
              "      <th></th>\n",
              "      <th></th>\n",
              "      <th></th>\n",
              "    </tr>\n",
              "  </thead>\n",
              "  <tbody>\n",
              "    <tr>\n",
              "      <th>1981-01-01</th>\n",
              "      <td>20.7</td>\n",
              "      <td>NaN</td>\n",
              "      <td>NaN</td>\n",
              "      <td>NaN</td>\n",
              "      <td>NaN</td>\n",
              "      <td>NaN</td>\n",
              "      <td>NaN</td>\n",
              "      <td>NaN</td>\n",
              "      <td>NaN</td>\n",
              "      <td>NaN</td>\n",
              "      <td>NaN</td>\n",
              "      <td>NaN</td>\n",
              "      <td>NaN</td>\n",
              "    </tr>\n",
              "    <tr>\n",
              "      <th>1981-01-02</th>\n",
              "      <td>17.9</td>\n",
              "      <td>20.7</td>\n",
              "      <td>NaN</td>\n",
              "      <td>NaN</td>\n",
              "      <td>NaN</td>\n",
              "      <td>NaN</td>\n",
              "      <td>NaN</td>\n",
              "      <td>NaN</td>\n",
              "      <td>NaN</td>\n",
              "      <td>NaN</td>\n",
              "      <td>NaN</td>\n",
              "      <td>NaN</td>\n",
              "      <td>NaN</td>\n",
              "    </tr>\n",
              "    <tr>\n",
              "      <th>1981-01-03</th>\n",
              "      <td>18.8</td>\n",
              "      <td>17.9</td>\n",
              "      <td>20.7</td>\n",
              "      <td>NaN</td>\n",
              "      <td>NaN</td>\n",
              "      <td>NaN</td>\n",
              "      <td>NaN</td>\n",
              "      <td>NaN</td>\n",
              "      <td>NaN</td>\n",
              "      <td>NaN</td>\n",
              "      <td>NaN</td>\n",
              "      <td>NaN</td>\n",
              "      <td>NaN</td>\n",
              "    </tr>\n",
              "    <tr>\n",
              "      <th>1981-01-04</th>\n",
              "      <td>14.6</td>\n",
              "      <td>18.8</td>\n",
              "      <td>17.9</td>\n",
              "      <td>20.7</td>\n",
              "      <td>NaN</td>\n",
              "      <td>NaN</td>\n",
              "      <td>NaN</td>\n",
              "      <td>NaN</td>\n",
              "      <td>NaN</td>\n",
              "      <td>NaN</td>\n",
              "      <td>NaN</td>\n",
              "      <td>NaN</td>\n",
              "      <td>NaN</td>\n",
              "    </tr>\n",
              "    <tr>\n",
              "      <th>1981-01-05</th>\n",
              "      <td>15.8</td>\n",
              "      <td>14.6</td>\n",
              "      <td>18.8</td>\n",
              "      <td>17.9</td>\n",
              "      <td>20.7</td>\n",
              "      <td>NaN</td>\n",
              "      <td>NaN</td>\n",
              "      <td>NaN</td>\n",
              "      <td>NaN</td>\n",
              "      <td>NaN</td>\n",
              "      <td>NaN</td>\n",
              "      <td>NaN</td>\n",
              "      <td>NaN</td>\n",
              "    </tr>\n",
              "    <tr>\n",
              "      <th>...</th>\n",
              "      <td>...</td>\n",
              "      <td>...</td>\n",
              "      <td>...</td>\n",
              "      <td>...</td>\n",
              "      <td>...</td>\n",
              "      <td>...</td>\n",
              "      <td>...</td>\n",
              "      <td>...</td>\n",
              "      <td>...</td>\n",
              "      <td>...</td>\n",
              "      <td>...</td>\n",
              "      <td>...</td>\n",
              "      <td>...</td>\n",
              "    </tr>\n",
              "    <tr>\n",
              "      <th>1990-12-27</th>\n",
              "      <td>14.0</td>\n",
              "      <td>14.6</td>\n",
              "      <td>12.9</td>\n",
              "      <td>10.0</td>\n",
              "      <td>13.9</td>\n",
              "      <td>13.2</td>\n",
              "      <td>13.1</td>\n",
              "      <td>15.4</td>\n",
              "      <td>14.7</td>\n",
              "      <td>17.2</td>\n",
              "      <td>13.9</td>\n",
              "      <td>13.6</td>\n",
              "      <td>13.4</td>\n",
              "    </tr>\n",
              "    <tr>\n",
              "      <th>1990-12-28</th>\n",
              "      <td>13.6</td>\n",
              "      <td>14.0</td>\n",
              "      <td>14.6</td>\n",
              "      <td>12.9</td>\n",
              "      <td>10.0</td>\n",
              "      <td>13.9</td>\n",
              "      <td>13.2</td>\n",
              "      <td>13.1</td>\n",
              "      <td>15.4</td>\n",
              "      <td>14.7</td>\n",
              "      <td>17.2</td>\n",
              "      <td>13.9</td>\n",
              "      <td>13.6</td>\n",
              "    </tr>\n",
              "    <tr>\n",
              "      <th>1990-12-29</th>\n",
              "      <td>13.5</td>\n",
              "      <td>13.6</td>\n",
              "      <td>14.0</td>\n",
              "      <td>14.6</td>\n",
              "      <td>12.9</td>\n",
              "      <td>10.0</td>\n",
              "      <td>13.9</td>\n",
              "      <td>13.2</td>\n",
              "      <td>13.1</td>\n",
              "      <td>15.4</td>\n",
              "      <td>14.7</td>\n",
              "      <td>17.2</td>\n",
              "      <td>13.9</td>\n",
              "    </tr>\n",
              "    <tr>\n",
              "      <th>1990-12-30</th>\n",
              "      <td>15.7</td>\n",
              "      <td>13.5</td>\n",
              "      <td>13.6</td>\n",
              "      <td>14.0</td>\n",
              "      <td>14.6</td>\n",
              "      <td>12.9</td>\n",
              "      <td>10.0</td>\n",
              "      <td>13.9</td>\n",
              "      <td>13.2</td>\n",
              "      <td>13.1</td>\n",
              "      <td>15.4</td>\n",
              "      <td>14.7</td>\n",
              "      <td>17.2</td>\n",
              "    </tr>\n",
              "    <tr>\n",
              "      <th>1990-12-31</th>\n",
              "      <td>13.0</td>\n",
              "      <td>15.7</td>\n",
              "      <td>13.5</td>\n",
              "      <td>13.6</td>\n",
              "      <td>14.0</td>\n",
              "      <td>14.6</td>\n",
              "      <td>12.9</td>\n",
              "      <td>10.0</td>\n",
              "      <td>13.9</td>\n",
              "      <td>13.2</td>\n",
              "      <td>13.1</td>\n",
              "      <td>15.4</td>\n",
              "      <td>14.7</td>\n",
              "    </tr>\n",
              "  </tbody>\n",
              "</table>\n",
              "<p>3650 rows × 13 columns</p>\n",
              "</div>"
            ],
            "text/plain": [
              "            Temp  shift_1  shift_2  ...  shift_10  shift_11  shift_12\n",
              "Date                                ...                              \n",
              "1981-01-01  20.7      NaN      NaN  ...       NaN       NaN       NaN\n",
              "1981-01-02  17.9     20.7      NaN  ...       NaN       NaN       NaN\n",
              "1981-01-03  18.8     17.9     20.7  ...       NaN       NaN       NaN\n",
              "1981-01-04  14.6     18.8     17.9  ...       NaN       NaN       NaN\n",
              "1981-01-05  15.8     14.6     18.8  ...       NaN       NaN       NaN\n",
              "...          ...      ...      ...  ...       ...       ...       ...\n",
              "1990-12-27  14.0     14.6     12.9  ...      13.9      13.6      13.4\n",
              "1990-12-28  13.6     14.0     14.6  ...      17.2      13.9      13.6\n",
              "1990-12-29  13.5     13.6     14.0  ...      14.7      17.2      13.9\n",
              "1990-12-30  15.7     13.5     13.6  ...      15.4      14.7      17.2\n",
              "1990-12-31  13.0     15.7     13.5  ...      13.1      15.4      14.7\n",
              "\n",
              "[3650 rows x 13 columns]"
            ]
          },
          "metadata": {
            "tags": []
          },
          "execution_count": 11
        }
      ]
    },
    {
      "cell_type": "code",
      "metadata": {
        "id": "B76adQME_k_r"
      },
      "source": [
        "trainable_temperatures = temperature_df_date_with_index.dropna()\n",
        "# inplace = True"
      ],
      "execution_count": null,
      "outputs": []
    },
    {
      "cell_type": "code",
      "metadata": {
        "id": "L7Kgy7ix_tnA",
        "colab": {
          "base_uri": "https://localhost:8080/",
          "height": 450
        },
        "outputId": "d95285dd-79ba-4727-db19-474c20567d40"
      },
      "source": [
        "trainable_temperatures"
      ],
      "execution_count": null,
      "outputs": [
        {
          "output_type": "execute_result",
          "data": {
            "text/html": [
              "<div>\n",
              "<style scoped>\n",
              "    .dataframe tbody tr th:only-of-type {\n",
              "        vertical-align: middle;\n",
              "    }\n",
              "\n",
              "    .dataframe tbody tr th {\n",
              "        vertical-align: top;\n",
              "    }\n",
              "\n",
              "    .dataframe thead th {\n",
              "        text-align: right;\n",
              "    }\n",
              "</style>\n",
              "<table border=\"1\" class=\"dataframe\">\n",
              "  <thead>\n",
              "    <tr style=\"text-align: right;\">\n",
              "      <th></th>\n",
              "      <th>Temp</th>\n",
              "      <th>shift_1</th>\n",
              "      <th>shift_2</th>\n",
              "      <th>shift_3</th>\n",
              "      <th>shift_4</th>\n",
              "      <th>shift_5</th>\n",
              "      <th>shift_6</th>\n",
              "      <th>shift_7</th>\n",
              "      <th>shift_8</th>\n",
              "      <th>shift_9</th>\n",
              "      <th>shift_10</th>\n",
              "      <th>shift_11</th>\n",
              "      <th>shift_12</th>\n",
              "    </tr>\n",
              "    <tr>\n",
              "      <th>Date</th>\n",
              "      <th></th>\n",
              "      <th></th>\n",
              "      <th></th>\n",
              "      <th></th>\n",
              "      <th></th>\n",
              "      <th></th>\n",
              "      <th></th>\n",
              "      <th></th>\n",
              "      <th></th>\n",
              "      <th></th>\n",
              "      <th></th>\n",
              "      <th></th>\n",
              "      <th></th>\n",
              "    </tr>\n",
              "  </thead>\n",
              "  <tbody>\n",
              "    <tr>\n",
              "      <th>1981-01-13</th>\n",
              "      <td>16.7</td>\n",
              "      <td>13.3</td>\n",
              "      <td>16.2</td>\n",
              "      <td>20.0</td>\n",
              "      <td>21.8</td>\n",
              "      <td>17.4</td>\n",
              "      <td>15.8</td>\n",
              "      <td>15.8</td>\n",
              "      <td>15.8</td>\n",
              "      <td>14.6</td>\n",
              "      <td>18.8</td>\n",
              "      <td>17.9</td>\n",
              "      <td>20.7</td>\n",
              "    </tr>\n",
              "    <tr>\n",
              "      <th>1981-01-14</th>\n",
              "      <td>21.5</td>\n",
              "      <td>16.7</td>\n",
              "      <td>13.3</td>\n",
              "      <td>16.2</td>\n",
              "      <td>20.0</td>\n",
              "      <td>21.8</td>\n",
              "      <td>17.4</td>\n",
              "      <td>15.8</td>\n",
              "      <td>15.8</td>\n",
              "      <td>15.8</td>\n",
              "      <td>14.6</td>\n",
              "      <td>18.8</td>\n",
              "      <td>17.9</td>\n",
              "    </tr>\n",
              "    <tr>\n",
              "      <th>1981-01-15</th>\n",
              "      <td>25.0</td>\n",
              "      <td>21.5</td>\n",
              "      <td>16.7</td>\n",
              "      <td>13.3</td>\n",
              "      <td>16.2</td>\n",
              "      <td>20.0</td>\n",
              "      <td>21.8</td>\n",
              "      <td>17.4</td>\n",
              "      <td>15.8</td>\n",
              "      <td>15.8</td>\n",
              "      <td>15.8</td>\n",
              "      <td>14.6</td>\n",
              "      <td>18.8</td>\n",
              "    </tr>\n",
              "    <tr>\n",
              "      <th>1981-01-16</th>\n",
              "      <td>20.7</td>\n",
              "      <td>25.0</td>\n",
              "      <td>21.5</td>\n",
              "      <td>16.7</td>\n",
              "      <td>13.3</td>\n",
              "      <td>16.2</td>\n",
              "      <td>20.0</td>\n",
              "      <td>21.8</td>\n",
              "      <td>17.4</td>\n",
              "      <td>15.8</td>\n",
              "      <td>15.8</td>\n",
              "      <td>15.8</td>\n",
              "      <td>14.6</td>\n",
              "    </tr>\n",
              "    <tr>\n",
              "      <th>1981-01-17</th>\n",
              "      <td>20.6</td>\n",
              "      <td>20.7</td>\n",
              "      <td>25.0</td>\n",
              "      <td>21.5</td>\n",
              "      <td>16.7</td>\n",
              "      <td>13.3</td>\n",
              "      <td>16.2</td>\n",
              "      <td>20.0</td>\n",
              "      <td>21.8</td>\n",
              "      <td>17.4</td>\n",
              "      <td>15.8</td>\n",
              "      <td>15.8</td>\n",
              "      <td>15.8</td>\n",
              "    </tr>\n",
              "    <tr>\n",
              "      <th>...</th>\n",
              "      <td>...</td>\n",
              "      <td>...</td>\n",
              "      <td>...</td>\n",
              "      <td>...</td>\n",
              "      <td>...</td>\n",
              "      <td>...</td>\n",
              "      <td>...</td>\n",
              "      <td>...</td>\n",
              "      <td>...</td>\n",
              "      <td>...</td>\n",
              "      <td>...</td>\n",
              "      <td>...</td>\n",
              "      <td>...</td>\n",
              "    </tr>\n",
              "    <tr>\n",
              "      <th>1990-12-27</th>\n",
              "      <td>14.0</td>\n",
              "      <td>14.6</td>\n",
              "      <td>12.9</td>\n",
              "      <td>10.0</td>\n",
              "      <td>13.9</td>\n",
              "      <td>13.2</td>\n",
              "      <td>13.1</td>\n",
              "      <td>15.4</td>\n",
              "      <td>14.7</td>\n",
              "      <td>17.2</td>\n",
              "      <td>13.9</td>\n",
              "      <td>13.6</td>\n",
              "      <td>13.4</td>\n",
              "    </tr>\n",
              "    <tr>\n",
              "      <th>1990-12-28</th>\n",
              "      <td>13.6</td>\n",
              "      <td>14.0</td>\n",
              "      <td>14.6</td>\n",
              "      <td>12.9</td>\n",
              "      <td>10.0</td>\n",
              "      <td>13.9</td>\n",
              "      <td>13.2</td>\n",
              "      <td>13.1</td>\n",
              "      <td>15.4</td>\n",
              "      <td>14.7</td>\n",
              "      <td>17.2</td>\n",
              "      <td>13.9</td>\n",
              "      <td>13.6</td>\n",
              "    </tr>\n",
              "    <tr>\n",
              "      <th>1990-12-29</th>\n",
              "      <td>13.5</td>\n",
              "      <td>13.6</td>\n",
              "      <td>14.0</td>\n",
              "      <td>14.6</td>\n",
              "      <td>12.9</td>\n",
              "      <td>10.0</td>\n",
              "      <td>13.9</td>\n",
              "      <td>13.2</td>\n",
              "      <td>13.1</td>\n",
              "      <td>15.4</td>\n",
              "      <td>14.7</td>\n",
              "      <td>17.2</td>\n",
              "      <td>13.9</td>\n",
              "    </tr>\n",
              "    <tr>\n",
              "      <th>1990-12-30</th>\n",
              "      <td>15.7</td>\n",
              "      <td>13.5</td>\n",
              "      <td>13.6</td>\n",
              "      <td>14.0</td>\n",
              "      <td>14.6</td>\n",
              "      <td>12.9</td>\n",
              "      <td>10.0</td>\n",
              "      <td>13.9</td>\n",
              "      <td>13.2</td>\n",
              "      <td>13.1</td>\n",
              "      <td>15.4</td>\n",
              "      <td>14.7</td>\n",
              "      <td>17.2</td>\n",
              "    </tr>\n",
              "    <tr>\n",
              "      <th>1990-12-31</th>\n",
              "      <td>13.0</td>\n",
              "      <td>15.7</td>\n",
              "      <td>13.5</td>\n",
              "      <td>13.6</td>\n",
              "      <td>14.0</td>\n",
              "      <td>14.6</td>\n",
              "      <td>12.9</td>\n",
              "      <td>10.0</td>\n",
              "      <td>13.9</td>\n",
              "      <td>13.2</td>\n",
              "      <td>13.1</td>\n",
              "      <td>15.4</td>\n",
              "      <td>14.7</td>\n",
              "    </tr>\n",
              "  </tbody>\n",
              "</table>\n",
              "<p>3638 rows × 13 columns</p>\n",
              "</div>"
            ],
            "text/plain": [
              "            Temp  shift_1  shift_2  ...  shift_10  shift_11  shift_12\n",
              "Date                                ...                              \n",
              "1981-01-13  16.7     13.3     16.2  ...      18.8      17.9      20.7\n",
              "1981-01-14  21.5     16.7     13.3  ...      14.6      18.8      17.9\n",
              "1981-01-15  25.0     21.5     16.7  ...      15.8      14.6      18.8\n",
              "1981-01-16  20.7     25.0     21.5  ...      15.8      15.8      14.6\n",
              "1981-01-17  20.6     20.7     25.0  ...      15.8      15.8      15.8\n",
              "...          ...      ...      ...  ...       ...       ...       ...\n",
              "1990-12-27  14.0     14.6     12.9  ...      13.9      13.6      13.4\n",
              "1990-12-28  13.6     14.0     14.6  ...      17.2      13.9      13.6\n",
              "1990-12-29  13.5     13.6     14.0  ...      14.7      17.2      13.9\n",
              "1990-12-30  15.7     13.5     13.6  ...      15.4      14.7      17.2\n",
              "1990-12-31  13.0     15.7     13.5  ...      13.1      15.4      14.7\n",
              "\n",
              "[3638 rows x 13 columns]"
            ]
          },
          "metadata": {
            "tags": []
          },
          "execution_count": 13
        }
      ]
    },
    {
      "cell_type": "markdown",
      "metadata": {
        "id": "UUL2wjg97h1Z"
      },
      "source": [
        "# 4. Split the data into train and test"
      ]
    },
    {
      "cell_type": "code",
      "metadata": {
        "id": "BePVaqY6_5CR"
      },
      "source": [
        "split_date = pd.Timestamp('01-01-1989')\n",
        "train_temperatures = trainable_temperatures.loc[:split_date,]\n",
        "test_temperatures = trainable_temperatures.loc[split_date:]"
      ],
      "execution_count": null,
      "outputs": []
    },
    {
      "cell_type": "code",
      "metadata": {
        "id": "bAKQqKIdA_Ib",
        "colab": {
          "base_uri": "https://localhost:8080/",
          "height": 34
        },
        "outputId": "04e3e628-482b-4058-f96c-4d8bfe0ddfbe"
      },
      "source": [
        "train_temperatures.shape, test_temperatures.shape"
      ],
      "execution_count": null,
      "outputs": [
        {
          "output_type": "execute_result",
          "data": {
            "text/plain": [
              "((2909, 13), (730, 13))"
            ]
          },
          "metadata": {
            "tags": []
          },
          "execution_count": 15
        }
      ]
    },
    {
      "cell_type": "code",
      "metadata": {
        "id": "KZq-BbLAAOt5"
      },
      "source": [
        "X_train_with_index = train_temperatures.drop('Temp', axis=1)\n",
        "y_train_with_index = train_temperatures[['Temp']]\n",
        "\n",
        "X_test_with_index = test_temperatures.drop('Temp', axis=1)\n",
        "y_test_with_index = test_temperatures[['Temp']]"
      ],
      "execution_count": null,
      "outputs": []
    },
    {
      "cell_type": "code",
      "metadata": {
        "id": "qlLi6uJxA1ms",
        "colab": {
          "base_uri": "https://localhost:8080/",
          "height": 450
        },
        "outputId": "c5cdd519-f12b-4993-c1c9-3e8c232ed778"
      },
      "source": [
        "X_train_with_index"
      ],
      "execution_count": null,
      "outputs": [
        {
          "output_type": "execute_result",
          "data": {
            "text/html": [
              "<div>\n",
              "<style scoped>\n",
              "    .dataframe tbody tr th:only-of-type {\n",
              "        vertical-align: middle;\n",
              "    }\n",
              "\n",
              "    .dataframe tbody tr th {\n",
              "        vertical-align: top;\n",
              "    }\n",
              "\n",
              "    .dataframe thead th {\n",
              "        text-align: right;\n",
              "    }\n",
              "</style>\n",
              "<table border=\"1\" class=\"dataframe\">\n",
              "  <thead>\n",
              "    <tr style=\"text-align: right;\">\n",
              "      <th></th>\n",
              "      <th>shift_1</th>\n",
              "      <th>shift_2</th>\n",
              "      <th>shift_3</th>\n",
              "      <th>shift_4</th>\n",
              "      <th>shift_5</th>\n",
              "      <th>shift_6</th>\n",
              "      <th>shift_7</th>\n",
              "      <th>shift_8</th>\n",
              "      <th>shift_9</th>\n",
              "      <th>shift_10</th>\n",
              "      <th>shift_11</th>\n",
              "      <th>shift_12</th>\n",
              "    </tr>\n",
              "    <tr>\n",
              "      <th>Date</th>\n",
              "      <th></th>\n",
              "      <th></th>\n",
              "      <th></th>\n",
              "      <th></th>\n",
              "      <th></th>\n",
              "      <th></th>\n",
              "      <th></th>\n",
              "      <th></th>\n",
              "      <th></th>\n",
              "      <th></th>\n",
              "      <th></th>\n",
              "      <th></th>\n",
              "    </tr>\n",
              "  </thead>\n",
              "  <tbody>\n",
              "    <tr>\n",
              "      <th>1981-01-13</th>\n",
              "      <td>13.3</td>\n",
              "      <td>16.2</td>\n",
              "      <td>20.0</td>\n",
              "      <td>21.8</td>\n",
              "      <td>17.4</td>\n",
              "      <td>15.8</td>\n",
              "      <td>15.8</td>\n",
              "      <td>15.8</td>\n",
              "      <td>14.6</td>\n",
              "      <td>18.8</td>\n",
              "      <td>17.9</td>\n",
              "      <td>20.7</td>\n",
              "    </tr>\n",
              "    <tr>\n",
              "      <th>1981-01-14</th>\n",
              "      <td>16.7</td>\n",
              "      <td>13.3</td>\n",
              "      <td>16.2</td>\n",
              "      <td>20.0</td>\n",
              "      <td>21.8</td>\n",
              "      <td>17.4</td>\n",
              "      <td>15.8</td>\n",
              "      <td>15.8</td>\n",
              "      <td>15.8</td>\n",
              "      <td>14.6</td>\n",
              "      <td>18.8</td>\n",
              "      <td>17.9</td>\n",
              "    </tr>\n",
              "    <tr>\n",
              "      <th>1981-01-15</th>\n",
              "      <td>21.5</td>\n",
              "      <td>16.7</td>\n",
              "      <td>13.3</td>\n",
              "      <td>16.2</td>\n",
              "      <td>20.0</td>\n",
              "      <td>21.8</td>\n",
              "      <td>17.4</td>\n",
              "      <td>15.8</td>\n",
              "      <td>15.8</td>\n",
              "      <td>15.8</td>\n",
              "      <td>14.6</td>\n",
              "      <td>18.8</td>\n",
              "    </tr>\n",
              "    <tr>\n",
              "      <th>1981-01-16</th>\n",
              "      <td>25.0</td>\n",
              "      <td>21.5</td>\n",
              "      <td>16.7</td>\n",
              "      <td>13.3</td>\n",
              "      <td>16.2</td>\n",
              "      <td>20.0</td>\n",
              "      <td>21.8</td>\n",
              "      <td>17.4</td>\n",
              "      <td>15.8</td>\n",
              "      <td>15.8</td>\n",
              "      <td>15.8</td>\n",
              "      <td>14.6</td>\n",
              "    </tr>\n",
              "    <tr>\n",
              "      <th>1981-01-17</th>\n",
              "      <td>20.7</td>\n",
              "      <td>25.0</td>\n",
              "      <td>21.5</td>\n",
              "      <td>16.7</td>\n",
              "      <td>13.3</td>\n",
              "      <td>16.2</td>\n",
              "      <td>20.0</td>\n",
              "      <td>21.8</td>\n",
              "      <td>17.4</td>\n",
              "      <td>15.8</td>\n",
              "      <td>15.8</td>\n",
              "      <td>15.8</td>\n",
              "    </tr>\n",
              "    <tr>\n",
              "      <th>...</th>\n",
              "      <td>...</td>\n",
              "      <td>...</td>\n",
              "      <td>...</td>\n",
              "      <td>...</td>\n",
              "      <td>...</td>\n",
              "      <td>...</td>\n",
              "      <td>...</td>\n",
              "      <td>...</td>\n",
              "      <td>...</td>\n",
              "      <td>...</td>\n",
              "      <td>...</td>\n",
              "      <td>...</td>\n",
              "    </tr>\n",
              "    <tr>\n",
              "      <th>1988-12-27</th>\n",
              "      <td>9.5</td>\n",
              "      <td>15.8</td>\n",
              "      <td>19.8</td>\n",
              "      <td>17.3</td>\n",
              "      <td>15.2</td>\n",
              "      <td>11.9</td>\n",
              "      <td>13.6</td>\n",
              "      <td>14.9</td>\n",
              "      <td>17.5</td>\n",
              "      <td>16.6</td>\n",
              "      <td>23.9</td>\n",
              "      <td>20.7</td>\n",
              "    </tr>\n",
              "    <tr>\n",
              "      <th>1988-12-28</th>\n",
              "      <td>12.9</td>\n",
              "      <td>9.5</td>\n",
              "      <td>15.8</td>\n",
              "      <td>19.8</td>\n",
              "      <td>17.3</td>\n",
              "      <td>15.2</td>\n",
              "      <td>11.9</td>\n",
              "      <td>13.6</td>\n",
              "      <td>14.9</td>\n",
              "      <td>17.5</td>\n",
              "      <td>16.6</td>\n",
              "      <td>23.9</td>\n",
              "    </tr>\n",
              "    <tr>\n",
              "      <th>1988-12-29</th>\n",
              "      <td>12.9</td>\n",
              "      <td>12.9</td>\n",
              "      <td>9.5</td>\n",
              "      <td>15.8</td>\n",
              "      <td>19.8</td>\n",
              "      <td>17.3</td>\n",
              "      <td>15.2</td>\n",
              "      <td>11.9</td>\n",
              "      <td>13.6</td>\n",
              "      <td>14.9</td>\n",
              "      <td>17.5</td>\n",
              "      <td>16.6</td>\n",
              "    </tr>\n",
              "    <tr>\n",
              "      <th>1988-12-30</th>\n",
              "      <td>14.8</td>\n",
              "      <td>12.9</td>\n",
              "      <td>12.9</td>\n",
              "      <td>9.5</td>\n",
              "      <td>15.8</td>\n",
              "      <td>19.8</td>\n",
              "      <td>17.3</td>\n",
              "      <td>15.2</td>\n",
              "      <td>11.9</td>\n",
              "      <td>13.6</td>\n",
              "      <td>14.9</td>\n",
              "      <td>17.5</td>\n",
              "    </tr>\n",
              "    <tr>\n",
              "      <th>1989-01-01</th>\n",
              "      <td>14.1</td>\n",
              "      <td>14.8</td>\n",
              "      <td>12.9</td>\n",
              "      <td>12.9</td>\n",
              "      <td>9.5</td>\n",
              "      <td>15.8</td>\n",
              "      <td>19.8</td>\n",
              "      <td>17.3</td>\n",
              "      <td>15.2</td>\n",
              "      <td>11.9</td>\n",
              "      <td>13.6</td>\n",
              "      <td>14.9</td>\n",
              "    </tr>\n",
              "  </tbody>\n",
              "</table>\n",
              "<p>2909 rows × 12 columns</p>\n",
              "</div>"
            ],
            "text/plain": [
              "            shift_1  shift_2  shift_3  ...  shift_10  shift_11  shift_12\n",
              "Date                                   ...                              \n",
              "1981-01-13     13.3     16.2     20.0  ...      18.8      17.9      20.7\n",
              "1981-01-14     16.7     13.3     16.2  ...      14.6      18.8      17.9\n",
              "1981-01-15     21.5     16.7     13.3  ...      15.8      14.6      18.8\n",
              "1981-01-16     25.0     21.5     16.7  ...      15.8      15.8      14.6\n",
              "1981-01-17     20.7     25.0     21.5  ...      15.8      15.8      15.8\n",
              "...             ...      ...      ...  ...       ...       ...       ...\n",
              "1988-12-27      9.5     15.8     19.8  ...      16.6      23.9      20.7\n",
              "1988-12-28     12.9      9.5     15.8  ...      17.5      16.6      23.9\n",
              "1988-12-29     12.9     12.9      9.5  ...      14.9      17.5      16.6\n",
              "1988-12-30     14.8     12.9     12.9  ...      13.6      14.9      17.5\n",
              "1989-01-01     14.1     14.8     12.9  ...      11.9      13.6      14.9\n",
              "\n",
              "[2909 rows x 12 columns]"
            ]
          },
          "metadata": {
            "tags": []
          },
          "execution_count": 17
        }
      ]
    },
    {
      "cell_type": "code",
      "metadata": {
        "id": "xOGsREvGA4s1",
        "colab": {
          "base_uri": "https://localhost:8080/",
          "height": 450
        },
        "outputId": "913a1f73-8489-4dff-f73a-1864f91a32f7"
      },
      "source": [
        "y_train_with_index"
      ],
      "execution_count": null,
      "outputs": [
        {
          "output_type": "execute_result",
          "data": {
            "text/html": [
              "<div>\n",
              "<style scoped>\n",
              "    .dataframe tbody tr th:only-of-type {\n",
              "        vertical-align: middle;\n",
              "    }\n",
              "\n",
              "    .dataframe tbody tr th {\n",
              "        vertical-align: top;\n",
              "    }\n",
              "\n",
              "    .dataframe thead th {\n",
              "        text-align: right;\n",
              "    }\n",
              "</style>\n",
              "<table border=\"1\" class=\"dataframe\">\n",
              "  <thead>\n",
              "    <tr style=\"text-align: right;\">\n",
              "      <th></th>\n",
              "      <th>Temp</th>\n",
              "    </tr>\n",
              "    <tr>\n",
              "      <th>Date</th>\n",
              "      <th></th>\n",
              "    </tr>\n",
              "  </thead>\n",
              "  <tbody>\n",
              "    <tr>\n",
              "      <th>1981-01-13</th>\n",
              "      <td>16.7</td>\n",
              "    </tr>\n",
              "    <tr>\n",
              "      <th>1981-01-14</th>\n",
              "      <td>21.5</td>\n",
              "    </tr>\n",
              "    <tr>\n",
              "      <th>1981-01-15</th>\n",
              "      <td>25.0</td>\n",
              "    </tr>\n",
              "    <tr>\n",
              "      <th>1981-01-16</th>\n",
              "      <td>20.7</td>\n",
              "    </tr>\n",
              "    <tr>\n",
              "      <th>1981-01-17</th>\n",
              "      <td>20.6</td>\n",
              "    </tr>\n",
              "    <tr>\n",
              "      <th>...</th>\n",
              "      <td>...</td>\n",
              "    </tr>\n",
              "    <tr>\n",
              "      <th>1988-12-27</th>\n",
              "      <td>12.9</td>\n",
              "    </tr>\n",
              "    <tr>\n",
              "      <th>1988-12-28</th>\n",
              "      <td>12.9</td>\n",
              "    </tr>\n",
              "    <tr>\n",
              "      <th>1988-12-29</th>\n",
              "      <td>14.8</td>\n",
              "    </tr>\n",
              "    <tr>\n",
              "      <th>1988-12-30</th>\n",
              "      <td>14.1</td>\n",
              "    </tr>\n",
              "    <tr>\n",
              "      <th>1989-01-01</th>\n",
              "      <td>14.3</td>\n",
              "    </tr>\n",
              "  </tbody>\n",
              "</table>\n",
              "<p>2909 rows × 1 columns</p>\n",
              "</div>"
            ],
            "text/plain": [
              "            Temp\n",
              "Date            \n",
              "1981-01-13  16.7\n",
              "1981-01-14  21.5\n",
              "1981-01-15  25.0\n",
              "1981-01-16  20.7\n",
              "1981-01-17  20.6\n",
              "...          ...\n",
              "1988-12-27  12.9\n",
              "1988-12-28  12.9\n",
              "1988-12-29  14.8\n",
              "1988-12-30  14.1\n",
              "1989-01-01  14.3\n",
              "\n",
              "[2909 rows x 1 columns]"
            ]
          },
          "metadata": {
            "tags": []
          },
          "execution_count": 18
        }
      ]
    },
    {
      "cell_type": "code",
      "metadata": {
        "id": "PipiYY9p48Uz",
        "colab": {
          "base_uri": "https://localhost:8080/",
          "height": 34
        },
        "outputId": "f5c321bf-3cc7-4289-c800-0204953ac099"
      },
      "source": [
        "X_train_values = X_train_with_index.values\n",
        "X_test_values = X_test_with_index.values\n",
        "\n",
        "y_train_values = y_train_with_index.values\n",
        "y_test_values = y_test_with_index.values\n",
        "\n",
        "X_train_values.shape, X_test_values.shape, y_train_values.shape, y_test_values.shape"
      ],
      "execution_count": null,
      "outputs": [
        {
          "output_type": "execute_result",
          "data": {
            "text/plain": [
              "((2909, 12), (730, 12), (2909, 1), (730, 1))"
            ]
          },
          "metadata": {
            "tags": []
          },
          "execution_count": 19
        }
      ]
    },
    {
      "cell_type": "markdown",
      "metadata": {
        "id": "QVOkvq0Y7kCs"
      },
      "source": [
        "# 5. Use 1 different RNN type"
      ]
    },
    {
      "cell_type": "code",
      "metadata": {
        "id": "wwL7WL2B6Pk-"
      },
      "source": [
        "from tensorflow import keras\n",
        "from keras.models import Model, Sequential\n",
        "from keras.layers import Dense, TimeDistributed, GRU, Conv1D\n",
        "import keras.backend as K"
      ],
      "execution_count": null,
      "outputs": []
    },
    {
      "cell_type": "code",
      "metadata": {
        "id": "ixfYNbdM6Jq2",
        "colab": {
          "base_uri": "https://localhost:8080/",
          "height": 34
        },
        "outputId": "1f25955c-e496-4d00-cf40-77ba3d776e43"
      },
      "source": [
        "X_train = X_train_values.reshape(X_train_values.shape[0], 12, 1)\n",
        "X_test = X_test_values.reshape(X_test_values.shape[0], 12, 1)\n",
        "\n",
        "X_train.shape"
      ],
      "execution_count": null,
      "outputs": [
        {
          "output_type": "execute_result",
          "data": {
            "text/plain": [
              "(2909, 12, 1)"
            ]
          },
          "metadata": {
            "tags": []
          },
          "execution_count": 21
        }
      ]
    },
    {
      "cell_type": "code",
      "metadata": {
        "id": "UlOBSQqj-fEI",
        "colab": {
          "base_uri": "https://localhost:8080/",
          "height": 34
        },
        "outputId": "8fcb4a9d-9ec8-4c04-a273-a32cf759cee7"
      },
      "source": [
        "y_train_values.shape"
      ],
      "execution_count": null,
      "outputs": [
        {
          "output_type": "execute_result",
          "data": {
            "text/plain": [
              "(2909, 1)"
            ]
          },
          "metadata": {
            "tags": []
          },
          "execution_count": 22
        }
      ]
    },
    {
      "cell_type": "markdown",
      "metadata": {
        "id": "ZUqrAzBvAi6b"
      },
      "source": [
        "#### Baseline Metrics"
      ]
    },
    {
      "cell_type": "code",
      "metadata": {
        "id": "DwTSLi-6_QuA",
        "colab": {
          "base_uri": "https://localhost:8080/",
          "height": 34
        },
        "outputId": "15b463dd-2997-4a5b-dc38-11dc99ba3b48"
      },
      "source": [
        "# naive forecasting\n",
        "y_pred = X_test[:, -1]\n",
        "np.mean(keras.losses.mean_squared_error(y_test_values, y_pred))"
      ],
      "execution_count": null,
      "outputs": [
        {
          "output_type": "execute_result",
          "data": {
            "text/plain": [
              "13.045561643835617"
            ]
          },
          "metadata": {
            "tags": []
          },
          "execution_count": 23
        }
      ]
    },
    {
      "cell_type": "code",
      "metadata": {
        "id": "M49J8Eyv_mnP",
        "colab": {
          "base_uri": "https://localhost:8080/",
          "height": 731
        },
        "outputId": "e82253eb-1cf3-4cd0-be33-b0fd0a70db1a"
      },
      "source": [
        "model_for_baseline = keras.models.Sequential([\n",
        "  keras.layers.Flatten(input_shape=[12, 1]),\n",
        "  keras.layers.Dense(1)\n",
        "])\n",
        "\n",
        "model_for_baseline.compile(loss='mean_squared_error', optimizer='adam')\n",
        "model_for_baseline.fit(X_train, y_train_values, epochs=20)\n",
        "model_for_baseline.evaluate(X_test, y_test_values)"
      ],
      "execution_count": null,
      "outputs": [
        {
          "output_type": "stream",
          "text": [
            "Epoch 1/20\n",
            "91/91 [==============================] - 0s 2ms/step - loss: 53.5425\n",
            "Epoch 2/20\n",
            "91/91 [==============================] - 0s 2ms/step - loss: 18.8448\n",
            "Epoch 3/20\n",
            "91/91 [==============================] - 0s 2ms/step - loss: 18.0375\n",
            "Epoch 4/20\n",
            "91/91 [==============================] - 0s 2ms/step - loss: 17.5094\n",
            "Epoch 5/20\n",
            "91/91 [==============================] - 0s 2ms/step - loss: 16.9178\n",
            "Epoch 6/20\n",
            "91/91 [==============================] - 0s 1ms/step - loss: 16.2795\n",
            "Epoch 7/20\n",
            "91/91 [==============================] - 0s 2ms/step - loss: 15.6228\n",
            "Epoch 8/20\n",
            "91/91 [==============================] - 0s 2ms/step - loss: 14.9797\n",
            "Epoch 9/20\n",
            "91/91 [==============================] - 0s 2ms/step - loss: 14.3507\n",
            "Epoch 10/20\n",
            "91/91 [==============================] - 0s 2ms/step - loss: 13.7112\n",
            "Epoch 11/20\n",
            "91/91 [==============================] - 0s 2ms/step - loss: 13.0958\n",
            "Epoch 12/20\n",
            "91/91 [==============================] - 0s 2ms/step - loss: 12.5217\n",
            "Epoch 13/20\n",
            "91/91 [==============================] - 0s 2ms/step - loss: 11.9673\n",
            "Epoch 14/20\n",
            "91/91 [==============================] - 0s 2ms/step - loss: 11.4536\n",
            "Epoch 15/20\n",
            "91/91 [==============================] - 0s 2ms/step - loss: 10.9913\n",
            "Epoch 16/20\n",
            "91/91 [==============================] - 0s 2ms/step - loss: 10.5466\n",
            "Epoch 17/20\n",
            "91/91 [==============================] - 0s 1ms/step - loss: 10.1573\n",
            "Epoch 18/20\n",
            "91/91 [==============================] - 0s 1ms/step - loss: 9.7671\n",
            "Epoch 19/20\n",
            "91/91 [==============================] - 0s 1ms/step - loss: 9.4293\n",
            "Epoch 20/20\n",
            "91/91 [==============================] - 0s 2ms/step - loss: 9.1097\n",
            "23/23 [==============================] - 0s 1ms/step - loss: 7.3435\n"
          ],
          "name": "stdout"
        },
        {
          "output_type": "execute_result",
          "data": {
            "text/plain": [
              "7.343539237976074"
            ]
          },
          "metadata": {
            "tags": []
          },
          "execution_count": 24
        }
      ]
    },
    {
      "cell_type": "markdown",
      "metadata": {
        "id": "FYEavYdeA6Wj"
      },
      "source": [
        "#### Model"
      ]
    },
    {
      "cell_type": "code",
      "metadata": {
        "id": "SbDMTUXsA8qi",
        "colab": {
          "base_uri": "https://localhost:8080/",
          "height": 731
        },
        "outputId": "0c3e6541-38bd-402f-cdeb-3a74c848f9d3"
      },
      "source": [
        "K.clear_session()\n",
        "inputs = keras.Input(shape=[None, 1])\n",
        "conv_1 = Conv1D(filters=20, kernel_size=4, strides=2, padding='valid')(inputs)\n",
        "gru_1 = GRU(20, return_sequences=True)(conv_1)\n",
        "gru_2 = GRU(20, return_sequences=True)(gru_1)\n",
        "output = TimeDistributed(Dense(1))(gru_2)\n",
        "\n",
        "model = Model(inputs, output)\n",
        "\n",
        "model.compile(loss=\"mse\", optimizer=keras.optimizers.Adam(lr=0.01))\n",
        "\n",
        "model.fit(X_train, y_train_values, epochs=20)\n",
        "model.evaluate(X_test, y_test_values)\n"
      ],
      "execution_count": null,
      "outputs": [
        {
          "output_type": "stream",
          "text": [
            "Epoch 1/20\n",
            "91/91 [==============================] - 0s 4ms/step - loss: 27.8872\n",
            "Epoch 2/20\n",
            "91/91 [==============================] - 0s 4ms/step - loss: 15.4345\n",
            "Epoch 3/20\n",
            "91/91 [==============================] - 0s 4ms/step - loss: 10.8265\n",
            "Epoch 4/20\n",
            "91/91 [==============================] - 0s 4ms/step - loss: 7.6669\n",
            "Epoch 5/20\n",
            "91/91 [==============================] - 0s 4ms/step - loss: 6.9347\n",
            "Epoch 6/20\n",
            "91/91 [==============================] - 0s 5ms/step - loss: 6.6833\n",
            "Epoch 7/20\n",
            "91/91 [==============================] - 0s 4ms/step - loss: 6.8118\n",
            "Epoch 8/20\n",
            "91/91 [==============================] - 0s 5ms/step - loss: 6.7138\n",
            "Epoch 9/20\n",
            "91/91 [==============================] - 0s 4ms/step - loss: 6.9139\n",
            "Epoch 10/20\n",
            "91/91 [==============================] - 0s 4ms/step - loss: 6.8340\n",
            "Epoch 11/20\n",
            "91/91 [==============================] - 0s 4ms/step - loss: 6.5543\n",
            "Epoch 12/20\n",
            "91/91 [==============================] - 0s 5ms/step - loss: 6.5084\n",
            "Epoch 13/20\n",
            "91/91 [==============================] - 0s 4ms/step - loss: 6.5573\n",
            "Epoch 14/20\n",
            "91/91 [==============================] - 0s 4ms/step - loss: 6.3708\n",
            "Epoch 15/20\n",
            "91/91 [==============================] - 0s 5ms/step - loss: 6.3072\n",
            "Epoch 16/20\n",
            "91/91 [==============================] - 0s 5ms/step - loss: 6.6863\n",
            "Epoch 17/20\n",
            "91/91 [==============================] - 0s 5ms/step - loss: 6.3522\n",
            "Epoch 18/20\n",
            "91/91 [==============================] - 0s 4ms/step - loss: 6.4807\n",
            "Epoch 19/20\n",
            "91/91 [==============================] - 0s 4ms/step - loss: 6.3045\n",
            "Epoch 20/20\n",
            "91/91 [==============================] - 0s 4ms/step - loss: 6.3195\n",
            "23/23 [==============================] - 0s 2ms/step - loss: 4.9550\n"
          ],
          "name": "stdout"
        },
        {
          "output_type": "execute_result",
          "data": {
            "text/plain": [
              "4.955042839050293"
            ]
          },
          "metadata": {
            "tags": []
          },
          "execution_count": 37
        }
      ]
    }
  ]
}