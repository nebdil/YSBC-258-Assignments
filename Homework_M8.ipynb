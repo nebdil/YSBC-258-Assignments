{
  "nbformat": 4,
  "nbformat_minor": 0,
  "metadata": {
    "colab": {
      "name": "Homework M8 Dilan Nebioglu.ipynb",
      "provenance": [],
      "collapsed_sections": [
        "PqKn3G81ztNd",
        "2QLedh8odo16"
      ]
    },
    "kernelspec": {
      "name": "python3",
      "display_name": "Python 3"
    },
    "accelerator": "GPU"
  },
  "cells": [
    {
      "cell_type": "markdown",
      "metadata": {
        "id": "mIXqeL__VlG2"
      },
      "source": [
        "# Deploy Keras Model to the Cloud\n",
        "1. Download data\n",
        "2. Hot Encode Categorical Columns\n",
        "3. Develop Model (use: ```RMSprop(lr=, rho=, epsilon=, decay=)```)\n",
        "3. Create Storage Bucket (should already exist)\n",
        "4. Authenticate on Google Cloud Platform\n",
        "5. Deploy your model using the ```gcloud``` tool"
      ]
    },
    {
      "cell_type": "markdown",
      "metadata": {
        "id": "PqKn3G81ztNd"
      },
      "source": [
        "### Download data"
      ]
    },
    {
      "cell_type": "code",
      "metadata": {
        "id": "vF16D9KFVgR9",
        "colab": {
          "base_uri": "https://localhost:8080/"
        },
        "outputId": "15a126d4-3eec-49a4-b1b4-d6b948608adc"
      },
      "source": [
        "!wget https://storage.googleapis.com/nicksdemobucket/bank.csv"
      ],
      "execution_count": null,
      "outputs": [
        {
          "output_type": "stream",
          "text": [
            "--2020-11-21 20:06:44--  https://storage.googleapis.com/nicksdemobucket/bank.csv\n",
            "Resolving storage.googleapis.com (storage.googleapis.com)... 172.217.7.144, 172.217.12.240, 172.253.63.128, ...\n",
            "Connecting to storage.googleapis.com (storage.googleapis.com)|172.217.7.144|:443... connected.\n",
            "HTTP request sent, awaiting response... 200 OK\n",
            "Length: 4610348 (4.4M) [application/octet-stream]\n",
            "Saving to: ‘bank.csv.7’\n",
            "\n",
            "\rbank.csv.7            0%[                    ]       0  --.-KB/s               \rbank.csv.7          100%[===================>]   4.40M  --.-KB/s    in 0.02s   \n",
            "\n",
            "2020-11-21 20:06:44 (265 MB/s) - ‘bank.csv.7’ saved [4610348/4610348]\n",
            "\n"
          ],
          "name": "stdout"
        }
      ]
    },
    {
      "cell_type": "code",
      "metadata": {
        "id": "gkJQAqroVoEa",
        "colab": {
          "base_uri": "https://localhost:8080/",
          "height": 204
        },
        "outputId": "63c24545-651f-4d55-d586-bc479a7b311c"
      },
      "source": [
        "import numpy as np\n",
        "import pandas as pd\n",
        "import tensorflow as tf\n",
        "df = pd.read_csv('bank.csv', sep=\";\")\n",
        "df.head()"
      ],
      "execution_count": null,
      "outputs": [
        {
          "output_type": "execute_result",
          "data": {
            "text/html": [
              "<div>\n",
              "<style scoped>\n",
              "    .dataframe tbody tr th:only-of-type {\n",
              "        vertical-align: middle;\n",
              "    }\n",
              "\n",
              "    .dataframe tbody tr th {\n",
              "        vertical-align: top;\n",
              "    }\n",
              "\n",
              "    .dataframe thead th {\n",
              "        text-align: right;\n",
              "    }\n",
              "</style>\n",
              "<table border=\"1\" class=\"dataframe\">\n",
              "  <thead>\n",
              "    <tr style=\"text-align: right;\">\n",
              "      <th></th>\n",
              "      <th>age</th>\n",
              "      <th>job</th>\n",
              "      <th>marital</th>\n",
              "      <th>education</th>\n",
              "      <th>default</th>\n",
              "      <th>balance</th>\n",
              "      <th>housing</th>\n",
              "      <th>loan</th>\n",
              "      <th>contact</th>\n",
              "      <th>day</th>\n",
              "      <th>month</th>\n",
              "      <th>duration</th>\n",
              "      <th>campaign</th>\n",
              "      <th>pdays</th>\n",
              "      <th>previous</th>\n",
              "      <th>poutcome</th>\n",
              "      <th>y</th>\n",
              "    </tr>\n",
              "  </thead>\n",
              "  <tbody>\n",
              "    <tr>\n",
              "      <th>0</th>\n",
              "      <td>58</td>\n",
              "      <td>management</td>\n",
              "      <td>married</td>\n",
              "      <td>tertiary</td>\n",
              "      <td>no</td>\n",
              "      <td>2143</td>\n",
              "      <td>yes</td>\n",
              "      <td>no</td>\n",
              "      <td>unknown</td>\n",
              "      <td>5</td>\n",
              "      <td>may</td>\n",
              "      <td>261</td>\n",
              "      <td>1</td>\n",
              "      <td>-1</td>\n",
              "      <td>0</td>\n",
              "      <td>unknown</td>\n",
              "      <td>no</td>\n",
              "    </tr>\n",
              "    <tr>\n",
              "      <th>1</th>\n",
              "      <td>44</td>\n",
              "      <td>technician</td>\n",
              "      <td>single</td>\n",
              "      <td>secondary</td>\n",
              "      <td>no</td>\n",
              "      <td>29</td>\n",
              "      <td>yes</td>\n",
              "      <td>no</td>\n",
              "      <td>unknown</td>\n",
              "      <td>5</td>\n",
              "      <td>may</td>\n",
              "      <td>151</td>\n",
              "      <td>1</td>\n",
              "      <td>-1</td>\n",
              "      <td>0</td>\n",
              "      <td>unknown</td>\n",
              "      <td>no</td>\n",
              "    </tr>\n",
              "    <tr>\n",
              "      <th>2</th>\n",
              "      <td>33</td>\n",
              "      <td>entrepreneur</td>\n",
              "      <td>married</td>\n",
              "      <td>secondary</td>\n",
              "      <td>no</td>\n",
              "      <td>2</td>\n",
              "      <td>yes</td>\n",
              "      <td>yes</td>\n",
              "      <td>unknown</td>\n",
              "      <td>5</td>\n",
              "      <td>may</td>\n",
              "      <td>76</td>\n",
              "      <td>1</td>\n",
              "      <td>-1</td>\n",
              "      <td>0</td>\n",
              "      <td>unknown</td>\n",
              "      <td>no</td>\n",
              "    </tr>\n",
              "    <tr>\n",
              "      <th>3</th>\n",
              "      <td>47</td>\n",
              "      <td>blue-collar</td>\n",
              "      <td>married</td>\n",
              "      <td>unknown</td>\n",
              "      <td>no</td>\n",
              "      <td>1506</td>\n",
              "      <td>yes</td>\n",
              "      <td>no</td>\n",
              "      <td>unknown</td>\n",
              "      <td>5</td>\n",
              "      <td>may</td>\n",
              "      <td>92</td>\n",
              "      <td>1</td>\n",
              "      <td>-1</td>\n",
              "      <td>0</td>\n",
              "      <td>unknown</td>\n",
              "      <td>no</td>\n",
              "    </tr>\n",
              "    <tr>\n",
              "      <th>4</th>\n",
              "      <td>33</td>\n",
              "      <td>unknown</td>\n",
              "      <td>single</td>\n",
              "      <td>unknown</td>\n",
              "      <td>no</td>\n",
              "      <td>1</td>\n",
              "      <td>no</td>\n",
              "      <td>no</td>\n",
              "      <td>unknown</td>\n",
              "      <td>5</td>\n",
              "      <td>may</td>\n",
              "      <td>198</td>\n",
              "      <td>1</td>\n",
              "      <td>-1</td>\n",
              "      <td>0</td>\n",
              "      <td>unknown</td>\n",
              "      <td>no</td>\n",
              "    </tr>\n",
              "  </tbody>\n",
              "</table>\n",
              "</div>"
            ],
            "text/plain": [
              "   age           job  marital  education  ... pdays  previous poutcome   y\n",
              "0   58    management  married   tertiary  ...    -1         0  unknown  no\n",
              "1   44    technician   single  secondary  ...    -1         0  unknown  no\n",
              "2   33  entrepreneur  married  secondary  ...    -1         0  unknown  no\n",
              "3   47   blue-collar  married    unknown  ...    -1         0  unknown  no\n",
              "4   33       unknown   single    unknown  ...    -1         0  unknown  no\n",
              "\n",
              "[5 rows x 17 columns]"
            ]
          },
          "metadata": {
            "tags": []
          },
          "execution_count": 100
        }
      ]
    },
    {
      "cell_type": "code",
      "metadata": {
        "id": "ImuTUFBgVoCe",
        "colab": {
          "base_uri": "https://localhost:8080/",
          "height": 297
        },
        "outputId": "2dc47194-4f0d-4693-fe27-5e43f0797853"
      },
      "source": [
        "df.describe()"
      ],
      "execution_count": null,
      "outputs": [
        {
          "output_type": "execute_result",
          "data": {
            "text/html": [
              "<div>\n",
              "<style scoped>\n",
              "    .dataframe tbody tr th:only-of-type {\n",
              "        vertical-align: middle;\n",
              "    }\n",
              "\n",
              "    .dataframe tbody tr th {\n",
              "        vertical-align: top;\n",
              "    }\n",
              "\n",
              "    .dataframe thead th {\n",
              "        text-align: right;\n",
              "    }\n",
              "</style>\n",
              "<table border=\"1\" class=\"dataframe\">\n",
              "  <thead>\n",
              "    <tr style=\"text-align: right;\">\n",
              "      <th></th>\n",
              "      <th>age</th>\n",
              "      <th>balance</th>\n",
              "      <th>day</th>\n",
              "      <th>duration</th>\n",
              "      <th>campaign</th>\n",
              "      <th>pdays</th>\n",
              "      <th>previous</th>\n",
              "    </tr>\n",
              "  </thead>\n",
              "  <tbody>\n",
              "    <tr>\n",
              "      <th>count</th>\n",
              "      <td>45211.000000</td>\n",
              "      <td>45211.000000</td>\n",
              "      <td>45211.000000</td>\n",
              "      <td>45211.000000</td>\n",
              "      <td>45211.000000</td>\n",
              "      <td>45211.000000</td>\n",
              "      <td>45211.000000</td>\n",
              "    </tr>\n",
              "    <tr>\n",
              "      <th>mean</th>\n",
              "      <td>40.936210</td>\n",
              "      <td>1362.272058</td>\n",
              "      <td>15.806419</td>\n",
              "      <td>258.163080</td>\n",
              "      <td>2.763841</td>\n",
              "      <td>40.197828</td>\n",
              "      <td>0.580323</td>\n",
              "    </tr>\n",
              "    <tr>\n",
              "      <th>std</th>\n",
              "      <td>10.618762</td>\n",
              "      <td>3044.765829</td>\n",
              "      <td>8.322476</td>\n",
              "      <td>257.527812</td>\n",
              "      <td>3.098021</td>\n",
              "      <td>100.128746</td>\n",
              "      <td>2.303441</td>\n",
              "    </tr>\n",
              "    <tr>\n",
              "      <th>min</th>\n",
              "      <td>18.000000</td>\n",
              "      <td>-8019.000000</td>\n",
              "      <td>1.000000</td>\n",
              "      <td>0.000000</td>\n",
              "      <td>1.000000</td>\n",
              "      <td>-1.000000</td>\n",
              "      <td>0.000000</td>\n",
              "    </tr>\n",
              "    <tr>\n",
              "      <th>25%</th>\n",
              "      <td>33.000000</td>\n",
              "      <td>72.000000</td>\n",
              "      <td>8.000000</td>\n",
              "      <td>103.000000</td>\n",
              "      <td>1.000000</td>\n",
              "      <td>-1.000000</td>\n",
              "      <td>0.000000</td>\n",
              "    </tr>\n",
              "    <tr>\n",
              "      <th>50%</th>\n",
              "      <td>39.000000</td>\n",
              "      <td>448.000000</td>\n",
              "      <td>16.000000</td>\n",
              "      <td>180.000000</td>\n",
              "      <td>2.000000</td>\n",
              "      <td>-1.000000</td>\n",
              "      <td>0.000000</td>\n",
              "    </tr>\n",
              "    <tr>\n",
              "      <th>75%</th>\n",
              "      <td>48.000000</td>\n",
              "      <td>1428.000000</td>\n",
              "      <td>21.000000</td>\n",
              "      <td>319.000000</td>\n",
              "      <td>3.000000</td>\n",
              "      <td>-1.000000</td>\n",
              "      <td>0.000000</td>\n",
              "    </tr>\n",
              "    <tr>\n",
              "      <th>max</th>\n",
              "      <td>95.000000</td>\n",
              "      <td>102127.000000</td>\n",
              "      <td>31.000000</td>\n",
              "      <td>4918.000000</td>\n",
              "      <td>63.000000</td>\n",
              "      <td>871.000000</td>\n",
              "      <td>275.000000</td>\n",
              "    </tr>\n",
              "  </tbody>\n",
              "</table>\n",
              "</div>"
            ],
            "text/plain": [
              "                age        balance  ...         pdays      previous\n",
              "count  45211.000000   45211.000000  ...  45211.000000  45211.000000\n",
              "mean      40.936210    1362.272058  ...     40.197828      0.580323\n",
              "std       10.618762    3044.765829  ...    100.128746      2.303441\n",
              "min       18.000000   -8019.000000  ...     -1.000000      0.000000\n",
              "25%       33.000000      72.000000  ...     -1.000000      0.000000\n",
              "50%       39.000000     448.000000  ...     -1.000000      0.000000\n",
              "75%       48.000000    1428.000000  ...     -1.000000      0.000000\n",
              "max       95.000000  102127.000000  ...    871.000000    275.000000\n",
              "\n",
              "[8 rows x 7 columns]"
            ]
          },
          "metadata": {
            "tags": []
          },
          "execution_count": 101
        }
      ]
    },
    {
      "cell_type": "markdown",
      "metadata": {
        "id": "2QLedh8odo16"
      },
      "source": [
        "### Process Data"
      ]
    },
    {
      "cell_type": "code",
      "metadata": {
        "id": "ldP2xLzhVoAc",
        "colab": {
          "base_uri": "https://localhost:8080/",
          "height": 204
        },
        "outputId": "db118673-ce0b-48a1-d43d-f0a58caf8427"
      },
      "source": [
        "df.loc[df['y'] == 'no', 'y'] = 0\n",
        "df.loc[df['y'] == 'yes', 'y'] = 1\n",
        "df.head()"
      ],
      "execution_count": null,
      "outputs": [
        {
          "output_type": "execute_result",
          "data": {
            "text/html": [
              "<div>\n",
              "<style scoped>\n",
              "    .dataframe tbody tr th:only-of-type {\n",
              "        vertical-align: middle;\n",
              "    }\n",
              "\n",
              "    .dataframe tbody tr th {\n",
              "        vertical-align: top;\n",
              "    }\n",
              "\n",
              "    .dataframe thead th {\n",
              "        text-align: right;\n",
              "    }\n",
              "</style>\n",
              "<table border=\"1\" class=\"dataframe\">\n",
              "  <thead>\n",
              "    <tr style=\"text-align: right;\">\n",
              "      <th></th>\n",
              "      <th>age</th>\n",
              "      <th>job</th>\n",
              "      <th>marital</th>\n",
              "      <th>education</th>\n",
              "      <th>default</th>\n",
              "      <th>balance</th>\n",
              "      <th>housing</th>\n",
              "      <th>loan</th>\n",
              "      <th>contact</th>\n",
              "      <th>day</th>\n",
              "      <th>month</th>\n",
              "      <th>duration</th>\n",
              "      <th>campaign</th>\n",
              "      <th>pdays</th>\n",
              "      <th>previous</th>\n",
              "      <th>poutcome</th>\n",
              "      <th>y</th>\n",
              "    </tr>\n",
              "  </thead>\n",
              "  <tbody>\n",
              "    <tr>\n",
              "      <th>0</th>\n",
              "      <td>58</td>\n",
              "      <td>management</td>\n",
              "      <td>married</td>\n",
              "      <td>tertiary</td>\n",
              "      <td>no</td>\n",
              "      <td>2143</td>\n",
              "      <td>yes</td>\n",
              "      <td>no</td>\n",
              "      <td>unknown</td>\n",
              "      <td>5</td>\n",
              "      <td>may</td>\n",
              "      <td>261</td>\n",
              "      <td>1</td>\n",
              "      <td>-1</td>\n",
              "      <td>0</td>\n",
              "      <td>unknown</td>\n",
              "      <td>0</td>\n",
              "    </tr>\n",
              "    <tr>\n",
              "      <th>1</th>\n",
              "      <td>44</td>\n",
              "      <td>technician</td>\n",
              "      <td>single</td>\n",
              "      <td>secondary</td>\n",
              "      <td>no</td>\n",
              "      <td>29</td>\n",
              "      <td>yes</td>\n",
              "      <td>no</td>\n",
              "      <td>unknown</td>\n",
              "      <td>5</td>\n",
              "      <td>may</td>\n",
              "      <td>151</td>\n",
              "      <td>1</td>\n",
              "      <td>-1</td>\n",
              "      <td>0</td>\n",
              "      <td>unknown</td>\n",
              "      <td>0</td>\n",
              "    </tr>\n",
              "    <tr>\n",
              "      <th>2</th>\n",
              "      <td>33</td>\n",
              "      <td>entrepreneur</td>\n",
              "      <td>married</td>\n",
              "      <td>secondary</td>\n",
              "      <td>no</td>\n",
              "      <td>2</td>\n",
              "      <td>yes</td>\n",
              "      <td>yes</td>\n",
              "      <td>unknown</td>\n",
              "      <td>5</td>\n",
              "      <td>may</td>\n",
              "      <td>76</td>\n",
              "      <td>1</td>\n",
              "      <td>-1</td>\n",
              "      <td>0</td>\n",
              "      <td>unknown</td>\n",
              "      <td>0</td>\n",
              "    </tr>\n",
              "    <tr>\n",
              "      <th>3</th>\n",
              "      <td>47</td>\n",
              "      <td>blue-collar</td>\n",
              "      <td>married</td>\n",
              "      <td>unknown</td>\n",
              "      <td>no</td>\n",
              "      <td>1506</td>\n",
              "      <td>yes</td>\n",
              "      <td>no</td>\n",
              "      <td>unknown</td>\n",
              "      <td>5</td>\n",
              "      <td>may</td>\n",
              "      <td>92</td>\n",
              "      <td>1</td>\n",
              "      <td>-1</td>\n",
              "      <td>0</td>\n",
              "      <td>unknown</td>\n",
              "      <td>0</td>\n",
              "    </tr>\n",
              "    <tr>\n",
              "      <th>4</th>\n",
              "      <td>33</td>\n",
              "      <td>unknown</td>\n",
              "      <td>single</td>\n",
              "      <td>unknown</td>\n",
              "      <td>no</td>\n",
              "      <td>1</td>\n",
              "      <td>no</td>\n",
              "      <td>no</td>\n",
              "      <td>unknown</td>\n",
              "      <td>5</td>\n",
              "      <td>may</td>\n",
              "      <td>198</td>\n",
              "      <td>1</td>\n",
              "      <td>-1</td>\n",
              "      <td>0</td>\n",
              "      <td>unknown</td>\n",
              "      <td>0</td>\n",
              "    </tr>\n",
              "  </tbody>\n",
              "</table>\n",
              "</div>"
            ],
            "text/plain": [
              "   age           job  marital  education  ... pdays  previous poutcome  y\n",
              "0   58    management  married   tertiary  ...    -1         0  unknown  0\n",
              "1   44    technician   single  secondary  ...    -1         0  unknown  0\n",
              "2   33  entrepreneur  married  secondary  ...    -1         0  unknown  0\n",
              "3   47   blue-collar  married    unknown  ...    -1         0  unknown  0\n",
              "4   33       unknown   single    unknown  ...    -1         0  unknown  0\n",
              "\n",
              "[5 rows x 17 columns]"
            ]
          },
          "metadata": {
            "tags": []
          },
          "execution_count": 102
        }
      ]
    },
    {
      "cell_type": "code",
      "metadata": {
        "id": "rXH7ej1-Vn-L",
        "colab": {
          "base_uri": "https://localhost:8080/"
        },
        "outputId": "2af61977-7ef6-4c4c-c6d2-5cc075b9e3ea"
      },
      "source": [
        "categorical = df.select_dtypes(include='object').columns\n",
        "print(categorical)"
      ],
      "execution_count": null,
      "outputs": [
        {
          "output_type": "stream",
          "text": [
            "Index(['job', 'marital', 'education', 'default', 'housing', 'loan', 'contact',\n",
            "       'month', 'poutcome', 'y'],\n",
            "      dtype='object')\n"
          ],
          "name": "stdout"
        }
      ]
    },
    {
      "cell_type": "code",
      "metadata": {
        "colab": {
          "base_uri": "https://localhost:8080/"
        },
        "id": "1WyNMy7SSrOm",
        "outputId": "727f75e9-a648-441a-b38a-19144a8b373e"
      },
      "source": [
        "frames = [pd.DataFrame(\n",
        "  {\n",
        "    'age': df['age'],\n",
        "    'balance': df['balance'],\n",
        "    'day': df['day'],\n",
        "    'duration': df['duration'],\n",
        "    'campaign': df['campaign'],\n",
        "    'pdays': df['pdays'],\n",
        "    'previous': df['previous'],\n",
        "  }\n",
        ")]\n",
        "\n",
        "\n",
        "for column in categorical:\n",
        "  onehot = pd.get_dummies(df[column], prefix=column)\n",
        "  frames.append(pd.DataFrame(onehot))\n",
        "\n",
        "onehot_X = pd.concat(frames, axis=1)\n",
        "\n",
        "X = np.asarray(onehot_X.drop(['y_0', 'y_1'], axis=1).values).astype(np.int32)\n",
        "y = np.asarray(df[['y']].values).astype(np.int32)\n",
        "\n",
        "print('X:', X)\n",
        "print('y:', y)"
      ],
      "execution_count": null,
      "outputs": [
        {
          "output_type": "stream",
          "text": [
            "X: [[  58 2143    5 ...    0    0    1]\n",
            " [  44   29    5 ...    0    0    1]\n",
            " [  33    2    5 ...    0    0    1]\n",
            " ...\n",
            " [  72 5715   17 ...    0    1    0]\n",
            " [  57  668   17 ...    0    0    1]\n",
            " [  37 2971   17 ...    1    0    0]]\n",
            "y: [[0]\n",
            " [0]\n",
            " [0]\n",
            " ...\n",
            " [1]\n",
            " [0]\n",
            " [0]]\n"
          ],
          "name": "stdout"
        }
      ]
    },
    {
      "cell_type": "code",
      "metadata": {
        "colab": {
          "base_uri": "https://localhost:8080/"
        },
        "id": "eEdYKF8Dlrrc",
        "outputId": "3f4c5413-dfa6-431c-8140-75880bde4326"
      },
      "source": [
        "print('X.shape:', X.shape)\n",
        "print('y.shape:', y.shape)"
      ],
      "execution_count": null,
      "outputs": [
        {
          "output_type": "stream",
          "text": [
            "X.shape: (45211, 51)\n",
            "y.shape: (45211, 1)\n"
          ],
          "name": "stdout"
        }
      ]
    },
    {
      "cell_type": "markdown",
      "metadata": {
        "id": "jvkmTAsGduFm"
      },
      "source": [
        "### Develop Model"
      ]
    },
    {
      "cell_type": "code",
      "metadata": {
        "id": "35iDxY5FVn0i"
      },
      "source": [
        "optimizer = tf.keras.optimizers.RMSprop(\n",
        "  learning_rate=0.001,\n",
        "  rho=0.9,\n",
        "  epsilon=1e-07,\n",
        "  decay=0\n",
        ")"
      ],
      "execution_count": null,
      "outputs": []
    },
    {
      "cell_type": "code",
      "metadata": {
        "colab": {
          "base_uri": "https://localhost:8080/"
        },
        "id": "HRGCWZZR1uDC",
        "outputId": "a1f60704-3c10-4aa9-c2b9-36a34aed54da"
      },
      "source": [
        "inputs = tf.keras.Input(shape=(51,))\n",
        "dense_layer = tf.keras.layers.Dense(4, activation='relu')(inputs)\n",
        "outputs = tf.keras.layers.Dense(1, activation='softmax')(dense_layer)\n",
        "\n",
        "model = tf.keras.Model(inputs, outputs)\n",
        "model.compile(\n",
        "  loss='mean_squared_error',\n",
        "  optimizer = optimizer,\n",
        "  metrics=['mean_absolute_error', 'mean_squared_error']\n",
        ")\n",
        "model.summary()"
      ],
      "execution_count": null,
      "outputs": [
        {
          "output_type": "stream",
          "text": [
            "Model: \"functional_9\"\n",
            "_________________________________________________________________\n",
            "Layer (type)                 Output Shape              Param #   \n",
            "=================================================================\n",
            "input_5 (InputLayer)         [(None, 51)]              0         \n",
            "_________________________________________________________________\n",
            "dense_8 (Dense)              (None, 4)                 208       \n",
            "_________________________________________________________________\n",
            "dense_9 (Dense)              (None, 1)                 5         \n",
            "=================================================================\n",
            "Total params: 213\n",
            "Trainable params: 213\n",
            "Non-trainable params: 0\n",
            "_________________________________________________________________\n"
          ],
          "name": "stdout"
        }
      ]
    },
    {
      "cell_type": "code",
      "metadata": {
        "colab": {
          "base_uri": "https://localhost:8080/"
        },
        "id": "76P2mh7i00tP",
        "outputId": "44c22467-3faf-428c-ac8b-a51817da55a5"
      },
      "source": [
        "h = model.fit(\n",
        "  X, y, \n",
        "  epochs=40,\n",
        "  batch_size=4,\n",
        "  steps_per_epoch=int(100/4), \n",
        "  validation_split=0.2\n",
        ")"
      ],
      "execution_count": null,
      "outputs": [
        {
          "output_type": "stream",
          "text": [
            "Epoch 1/40\n",
            "25/25 [==============================] - 3s 134ms/step - loss: 0.9200 - mean_absolute_error: 0.9200 - mean_squared_error: 0.9200 - val_loss: 0.6842 - val_mean_absolute_error: 0.6842 - val_mean_squared_error: 0.6842\n",
            "Epoch 2/40\n",
            "25/25 [==============================] - 3s 130ms/step - loss: 0.9600 - mean_absolute_error: 0.9600 - mean_squared_error: 0.9600 - val_loss: 0.6842 - val_mean_absolute_error: 0.6842 - val_mean_squared_error: 0.6842\n",
            "Epoch 3/40\n",
            "25/25 [==============================] - 3s 132ms/step - loss: 0.9200 - mean_absolute_error: 0.9200 - mean_squared_error: 0.9200 - val_loss: 0.6842 - val_mean_absolute_error: 0.6842 - val_mean_squared_error: 0.6842\n",
            "Epoch 4/40\n",
            "25/25 [==============================] - 3s 139ms/step - loss: 0.9800 - mean_absolute_error: 0.9800 - mean_squared_error: 0.9800 - val_loss: 0.6842 - val_mean_absolute_error: 0.6842 - val_mean_squared_error: 0.6842\n",
            "Epoch 5/40\n",
            "25/25 [==============================] - 3s 140ms/step - loss: 0.8700 - mean_absolute_error: 0.8700 - mean_squared_error: 0.8700 - val_loss: 0.6842 - val_mean_absolute_error: 0.6842 - val_mean_squared_error: 0.6842\n",
            "Epoch 6/40\n",
            "25/25 [==============================] - 3s 129ms/step - loss: 0.9800 - mean_absolute_error: 0.9800 - mean_squared_error: 0.9800 - val_loss: 0.6842 - val_mean_absolute_error: 0.6842 - val_mean_squared_error: 0.6842\n",
            "Epoch 7/40\n",
            "25/25 [==============================] - 3s 133ms/step - loss: 0.9400 - mean_absolute_error: 0.9400 - mean_squared_error: 0.9400 - val_loss: 0.6842 - val_mean_absolute_error: 0.6842 - val_mean_squared_error: 0.6842\n",
            "Epoch 8/40\n",
            "25/25 [==============================] - 3s 127ms/step - loss: 0.8800 - mean_absolute_error: 0.8800 - mean_squared_error: 0.8800 - val_loss: 0.6842 - val_mean_absolute_error: 0.6842 - val_mean_squared_error: 0.6842\n",
            "Epoch 9/40\n",
            "25/25 [==============================] - 3s 126ms/step - loss: 0.8800 - mean_absolute_error: 0.8800 - mean_squared_error: 0.8800 - val_loss: 0.6842 - val_mean_absolute_error: 0.6842 - val_mean_squared_error: 0.6842\n",
            "Epoch 10/40\n",
            "25/25 [==============================] - 3s 125ms/step - loss: 0.9000 - mean_absolute_error: 0.9000 - mean_squared_error: 0.9000 - val_loss: 0.6842 - val_mean_absolute_error: 0.6842 - val_mean_squared_error: 0.6842\n",
            "Epoch 11/40\n",
            "25/25 [==============================] - 3s 129ms/step - loss: 0.9300 - mean_absolute_error: 0.9300 - mean_squared_error: 0.9300 - val_loss: 0.6842 - val_mean_absolute_error: 0.6842 - val_mean_squared_error: 0.6842\n",
            "Epoch 12/40\n",
            "25/25 [==============================] - 3s 127ms/step - loss: 0.9400 - mean_absolute_error: 0.9400 - mean_squared_error: 0.9400 - val_loss: 0.6842 - val_mean_absolute_error: 0.6842 - val_mean_squared_error: 0.6842\n",
            "Epoch 13/40\n",
            "25/25 [==============================] - 3s 132ms/step - loss: 0.9400 - mean_absolute_error: 0.9400 - mean_squared_error: 0.9400 - val_loss: 0.6842 - val_mean_absolute_error: 0.6842 - val_mean_squared_error: 0.6842\n",
            "Epoch 14/40\n",
            "25/25 [==============================] - 3s 131ms/step - loss: 0.9500 - mean_absolute_error: 0.9500 - mean_squared_error: 0.9500 - val_loss: 0.6842 - val_mean_absolute_error: 0.6842 - val_mean_squared_error: 0.6842\n",
            "Epoch 15/40\n",
            "25/25 [==============================] - 3s 125ms/step - loss: 0.9700 - mean_absolute_error: 0.9700 - mean_squared_error: 0.9700 - val_loss: 0.6842 - val_mean_absolute_error: 0.6842 - val_mean_squared_error: 0.6842\n",
            "Epoch 16/40\n",
            "25/25 [==============================] - 3s 125ms/step - loss: 0.9400 - mean_absolute_error: 0.9400 - mean_squared_error: 0.9400 - val_loss: 0.6842 - val_mean_absolute_error: 0.6842 - val_mean_squared_error: 0.6842\n",
            "Epoch 17/40\n",
            "25/25 [==============================] - 3s 132ms/step - loss: 0.9100 - mean_absolute_error: 0.9100 - mean_squared_error: 0.9100 - val_loss: 0.6842 - val_mean_absolute_error: 0.6842 - val_mean_squared_error: 0.6842\n",
            "Epoch 18/40\n",
            "25/25 [==============================] - 3s 129ms/step - loss: 0.9200 - mean_absolute_error: 0.9200 - mean_squared_error: 0.9200 - val_loss: 0.6842 - val_mean_absolute_error: 0.6842 - val_mean_squared_error: 0.6842\n",
            "Epoch 19/40\n",
            "25/25 [==============================] - 3s 130ms/step - loss: 0.9500 - mean_absolute_error: 0.9500 - mean_squared_error: 0.9500 - val_loss: 0.6842 - val_mean_absolute_error: 0.6842 - val_mean_squared_error: 0.6842\n",
            "Epoch 20/40\n",
            "25/25 [==============================] - 3s 130ms/step - loss: 0.9500 - mean_absolute_error: 0.9500 - mean_squared_error: 0.9500 - val_loss: 0.6842 - val_mean_absolute_error: 0.6842 - val_mean_squared_error: 0.6842\n",
            "Epoch 21/40\n",
            "25/25 [==============================] - 3s 128ms/step - loss: 0.9000 - mean_absolute_error: 0.9000 - mean_squared_error: 0.9000 - val_loss: 0.6842 - val_mean_absolute_error: 0.6842 - val_mean_squared_error: 0.6842\n",
            "Epoch 22/40\n",
            "25/25 [==============================] - 3s 125ms/step - loss: 0.9200 - mean_absolute_error: 0.9200 - mean_squared_error: 0.9200 - val_loss: 0.6842 - val_mean_absolute_error: 0.6842 - val_mean_squared_error: 0.6842\n",
            "Epoch 23/40\n",
            "25/25 [==============================] - 3s 129ms/step - loss: 0.9300 - mean_absolute_error: 0.9300 - mean_squared_error: 0.9300 - val_loss: 0.6842 - val_mean_absolute_error: 0.6842 - val_mean_squared_error: 0.6842\n",
            "Epoch 24/40\n",
            "25/25 [==============================] - 3s 133ms/step - loss: 0.9300 - mean_absolute_error: 0.9300 - mean_squared_error: 0.9300 - val_loss: 0.6842 - val_mean_absolute_error: 0.6842 - val_mean_squared_error: 0.6842\n",
            "Epoch 25/40\n",
            "25/25 [==============================] - 3s 128ms/step - loss: 0.9200 - mean_absolute_error: 0.9200 - mean_squared_error: 0.9200 - val_loss: 0.6842 - val_mean_absolute_error: 0.6842 - val_mean_squared_error: 0.6842\n",
            "Epoch 26/40\n",
            "25/25 [==============================] - 3s 126ms/step - loss: 0.9100 - mean_absolute_error: 0.9100 - mean_squared_error: 0.9100 - val_loss: 0.6842 - val_mean_absolute_error: 0.6842 - val_mean_squared_error: 0.6842\n",
            "Epoch 27/40\n",
            "25/25 [==============================] - 3s 125ms/step - loss: 0.9400 - mean_absolute_error: 0.9400 - mean_squared_error: 0.9400 - val_loss: 0.6842 - val_mean_absolute_error: 0.6842 - val_mean_squared_error: 0.6842\n",
            "Epoch 28/40\n",
            "25/25 [==============================] - 3s 139ms/step - loss: 0.9000 - mean_absolute_error: 0.9000 - mean_squared_error: 0.9000 - val_loss: 0.6842 - val_mean_absolute_error: 0.6842 - val_mean_squared_error: 0.6842\n",
            "Epoch 29/40\n",
            "25/25 [==============================] - 3s 139ms/step - loss: 0.9200 - mean_absolute_error: 0.9200 - mean_squared_error: 0.9200 - val_loss: 0.6842 - val_mean_absolute_error: 0.6842 - val_mean_squared_error: 0.6842\n",
            "Epoch 30/40\n",
            "25/25 [==============================] - 3s 133ms/step - loss: 0.9500 - mean_absolute_error: 0.9500 - mean_squared_error: 0.9500 - val_loss: 0.6842 - val_mean_absolute_error: 0.6842 - val_mean_squared_error: 0.6842\n",
            "Epoch 31/40\n",
            "25/25 [==============================] - 3s 127ms/step - loss: 0.9700 - mean_absolute_error: 0.9700 - mean_squared_error: 0.9700 - val_loss: 0.6842 - val_mean_absolute_error: 0.6842 - val_mean_squared_error: 0.6842\n",
            "Epoch 32/40\n",
            "25/25 [==============================] - 3s 129ms/step - loss: 0.9500 - mean_absolute_error: 0.9500 - mean_squared_error: 0.9500 - val_loss: 0.6842 - val_mean_absolute_error: 0.6842 - val_mean_squared_error: 0.6842\n",
            "Epoch 33/40\n",
            "25/25 [==============================] - 3s 123ms/step - loss: 0.8800 - mean_absolute_error: 0.8800 - mean_squared_error: 0.8800 - val_loss: 0.6842 - val_mean_absolute_error: 0.6842 - val_mean_squared_error: 0.6842\n",
            "Epoch 34/40\n",
            "25/25 [==============================] - 3s 125ms/step - loss: 0.9000 - mean_absolute_error: 0.9000 - mean_squared_error: 0.9000 - val_loss: 0.6842 - val_mean_absolute_error: 0.6842 - val_mean_squared_error: 0.6842\n",
            "Epoch 35/40\n",
            "25/25 [==============================] - 3s 125ms/step - loss: 0.9400 - mean_absolute_error: 0.9400 - mean_squared_error: 0.9400 - val_loss: 0.6842 - val_mean_absolute_error: 0.6842 - val_mean_squared_error: 0.6842\n",
            "Epoch 36/40\n",
            "25/25 [==============================] - 3s 124ms/step - loss: 0.9600 - mean_absolute_error: 0.9600 - mean_squared_error: 0.9600 - val_loss: 0.6842 - val_mean_absolute_error: 0.6842 - val_mean_squared_error: 0.6842\n",
            "Epoch 37/40\n",
            "25/25 [==============================] - 3s 123ms/step - loss: 0.9400 - mean_absolute_error: 0.9400 - mean_squared_error: 0.9400 - val_loss: 0.6842 - val_mean_absolute_error: 0.6842 - val_mean_squared_error: 0.6842\n",
            "Epoch 38/40\n",
            "25/25 [==============================] - 3s 125ms/step - loss: 0.9200 - mean_absolute_error: 0.9200 - mean_squared_error: 0.9200 - val_loss: 0.6842 - val_mean_absolute_error: 0.6842 - val_mean_squared_error: 0.6842\n",
            "Epoch 39/40\n",
            "25/25 [==============================] - 3s 125ms/step - loss: 0.8700 - mean_absolute_error: 0.8700 - mean_squared_error: 0.8700 - val_loss: 0.6842 - val_mean_absolute_error: 0.6842 - val_mean_squared_error: 0.6842\n",
            "Epoch 40/40\n",
            "25/25 [==============================] - 3s 126ms/step - loss: 0.9200 - mean_absolute_error: 0.9200 - mean_squared_error: 0.9200 - val_loss: 0.6842 - val_mean_absolute_error: 0.6842 - val_mean_squared_error: 0.6842\n"
          ],
          "name": "stdout"
        }
      ]
    },
    {
      "cell_type": "code",
      "metadata": {
        "id": "BqQQmi4C6U-0",
        "colab": {
          "base_uri": "https://localhost:8080/"
        },
        "outputId": "d6e1c16b-6074-4727-fc9d-df4d92984a36"
      },
      "source": [
        "h.history"
      ],
      "execution_count": null,
      "outputs": [
        {
          "output_type": "execute_result",
          "data": {
            "text/plain": [
              "{'loss': [0.9200000166893005,\n",
              "  0.9599999785423279,\n",
              "  0.9200000166893005,\n",
              "  0.9800000190734863,\n",
              "  0.8700000047683716,\n",
              "  0.9800000190734863,\n",
              "  0.9399999976158142,\n",
              "  0.8799999952316284,\n",
              "  0.8799999952316284,\n",
              "  0.8999999761581421,\n",
              "  0.9300000071525574,\n",
              "  0.9399999976158142,\n",
              "  0.9399999976158142,\n",
              "  0.949999988079071,\n",
              "  0.9700000286102295,\n",
              "  0.9399999976158142,\n",
              "  0.9100000262260437,\n",
              "  0.9200000166893005,\n",
              "  0.949999988079071,\n",
              "  0.949999988079071,\n",
              "  0.8999999761581421,\n",
              "  0.9200000166893005,\n",
              "  0.9300000071525574,\n",
              "  0.9300000071525574,\n",
              "  0.9200000166893005,\n",
              "  0.9100000262260437,\n",
              "  0.9399999976158142,\n",
              "  0.8999999761581421,\n",
              "  0.9200000166893005,\n",
              "  0.949999988079071,\n",
              "  0.9700000286102295,\n",
              "  0.949999988079071,\n",
              "  0.8799999952316284,\n",
              "  0.8999999761581421,\n",
              "  0.9399999976158142,\n",
              "  0.9599999785423279,\n",
              "  0.9399999976158142,\n",
              "  0.9200000166893005,\n",
              "  0.8700000047683716,\n",
              "  0.9200000166893005],\n",
              " 'mean_absolute_error': [0.9200000166893005,\n",
              "  0.9599999785423279,\n",
              "  0.9200000166893005,\n",
              "  0.9800000190734863,\n",
              "  0.8700000047683716,\n",
              "  0.9800000190734863,\n",
              "  0.9399999976158142,\n",
              "  0.8799999952316284,\n",
              "  0.8799999952316284,\n",
              "  0.8999999761581421,\n",
              "  0.9300000071525574,\n",
              "  0.9399999976158142,\n",
              "  0.9399999976158142,\n",
              "  0.949999988079071,\n",
              "  0.9700000286102295,\n",
              "  0.9399999976158142,\n",
              "  0.9100000262260437,\n",
              "  0.9200000166893005,\n",
              "  0.949999988079071,\n",
              "  0.949999988079071,\n",
              "  0.8999999761581421,\n",
              "  0.9200000166893005,\n",
              "  0.9300000071525574,\n",
              "  0.9300000071525574,\n",
              "  0.9200000166893005,\n",
              "  0.9100000262260437,\n",
              "  0.9399999976158142,\n",
              "  0.8999999761581421,\n",
              "  0.9200000166893005,\n",
              "  0.949999988079071,\n",
              "  0.9700000286102295,\n",
              "  0.949999988079071,\n",
              "  0.8799999952316284,\n",
              "  0.8999999761581421,\n",
              "  0.9399999976158142,\n",
              "  0.9599999785423279,\n",
              "  0.9399999976158142,\n",
              "  0.9200000166893005,\n",
              "  0.8700000047683716,\n",
              "  0.9200000166893005],\n",
              " 'mean_squared_error': [0.9200000166893005,\n",
              "  0.9599999785423279,\n",
              "  0.9200000166893005,\n",
              "  0.9800000190734863,\n",
              "  0.8700000047683716,\n",
              "  0.9800000190734863,\n",
              "  0.9399999976158142,\n",
              "  0.8799999952316284,\n",
              "  0.8799999952316284,\n",
              "  0.8999999761581421,\n",
              "  0.9300000071525574,\n",
              "  0.9399999976158142,\n",
              "  0.9399999976158142,\n",
              "  0.949999988079071,\n",
              "  0.9700000286102295,\n",
              "  0.9399999976158142,\n",
              "  0.9100000262260437,\n",
              "  0.9200000166893005,\n",
              "  0.949999988079071,\n",
              "  0.949999988079071,\n",
              "  0.8999999761581421,\n",
              "  0.9200000166893005,\n",
              "  0.9300000071525574,\n",
              "  0.9300000071525574,\n",
              "  0.9200000166893005,\n",
              "  0.9100000262260437,\n",
              "  0.9399999976158142,\n",
              "  0.8999999761581421,\n",
              "  0.9200000166893005,\n",
              "  0.949999988079071,\n",
              "  0.9700000286102295,\n",
              "  0.949999988079071,\n",
              "  0.8799999952316284,\n",
              "  0.8999999761581421,\n",
              "  0.9399999976158142,\n",
              "  0.9599999785423279,\n",
              "  0.9399999976158142,\n",
              "  0.9200000166893005,\n",
              "  0.8700000047683716,\n",
              "  0.9200000166893005],\n",
              " 'val_loss': [0.6841756105422974,\n",
              "  0.6841756105422974,\n",
              "  0.6841756105422974,\n",
              "  0.6841756105422974,\n",
              "  0.6841756105422974,\n",
              "  0.6841756105422974,\n",
              "  0.6841756105422974,\n",
              "  0.6841756105422974,\n",
              "  0.6841756105422974,\n",
              "  0.6841756105422974,\n",
              "  0.6841756105422974,\n",
              "  0.6841756105422974,\n",
              "  0.6841756105422974,\n",
              "  0.6841756105422974,\n",
              "  0.6841756105422974,\n",
              "  0.6841756105422974,\n",
              "  0.6841756105422974,\n",
              "  0.6841756105422974,\n",
              "  0.6841756105422974,\n",
              "  0.6841756105422974,\n",
              "  0.6841756105422974,\n",
              "  0.6841756105422974,\n",
              "  0.6841756105422974,\n",
              "  0.6841756105422974,\n",
              "  0.6841756105422974,\n",
              "  0.6841756105422974,\n",
              "  0.6841756105422974,\n",
              "  0.6841756105422974,\n",
              "  0.6841756105422974,\n",
              "  0.6841756105422974,\n",
              "  0.6841756105422974,\n",
              "  0.6841756105422974,\n",
              "  0.6841756105422974,\n",
              "  0.6841756105422974,\n",
              "  0.6841756105422974,\n",
              "  0.6841756105422974,\n",
              "  0.6841756105422974,\n",
              "  0.6841756105422974,\n",
              "  0.6841756105422974,\n",
              "  0.6841756105422974],\n",
              " 'val_mean_absolute_error': [0.6841756105422974,\n",
              "  0.6841756105422974,\n",
              "  0.6841756105422974,\n",
              "  0.6841756105422974,\n",
              "  0.6841756105422974,\n",
              "  0.6841756105422974,\n",
              "  0.6841756105422974,\n",
              "  0.6841756105422974,\n",
              "  0.6841756105422974,\n",
              "  0.6841756105422974,\n",
              "  0.6841756105422974,\n",
              "  0.6841756105422974,\n",
              "  0.6841756105422974,\n",
              "  0.6841756105422974,\n",
              "  0.6841756105422974,\n",
              "  0.6841756105422974,\n",
              "  0.6841756105422974,\n",
              "  0.6841756105422974,\n",
              "  0.6841756105422974,\n",
              "  0.6841756105422974,\n",
              "  0.6841756105422974,\n",
              "  0.6841756105422974,\n",
              "  0.6841756105422974,\n",
              "  0.6841756105422974,\n",
              "  0.6841756105422974,\n",
              "  0.6841756105422974,\n",
              "  0.6841756105422974,\n",
              "  0.6841756105422974,\n",
              "  0.6841756105422974,\n",
              "  0.6841756105422974,\n",
              "  0.6841756105422974,\n",
              "  0.6841756105422974,\n",
              "  0.6841756105422974,\n",
              "  0.6841756105422974,\n",
              "  0.6841756105422974,\n",
              "  0.6841756105422974,\n",
              "  0.6841756105422974,\n",
              "  0.6841756105422974,\n",
              "  0.6841756105422974,\n",
              "  0.6841756105422974],\n",
              " 'val_mean_squared_error': [0.6841756105422974,\n",
              "  0.6841756105422974,\n",
              "  0.6841756105422974,\n",
              "  0.6841756105422974,\n",
              "  0.6841756105422974,\n",
              "  0.6841756105422974,\n",
              "  0.6841756105422974,\n",
              "  0.6841756105422974,\n",
              "  0.6841756105422974,\n",
              "  0.6841756105422974,\n",
              "  0.6841756105422974,\n",
              "  0.6841756105422974,\n",
              "  0.6841756105422974,\n",
              "  0.6841756105422974,\n",
              "  0.6841756105422974,\n",
              "  0.6841756105422974,\n",
              "  0.6841756105422974,\n",
              "  0.6841756105422974,\n",
              "  0.6841756105422974,\n",
              "  0.6841756105422974,\n",
              "  0.6841756105422974,\n",
              "  0.6841756105422974,\n",
              "  0.6841756105422974,\n",
              "  0.6841756105422974,\n",
              "  0.6841756105422974,\n",
              "  0.6841756105422974,\n",
              "  0.6841756105422974,\n",
              "  0.6841756105422974,\n",
              "  0.6841756105422974,\n",
              "  0.6841756105422974,\n",
              "  0.6841756105422974,\n",
              "  0.6841756105422974,\n",
              "  0.6841756105422974,\n",
              "  0.6841756105422974,\n",
              "  0.6841756105422974,\n",
              "  0.6841756105422974,\n",
              "  0.6841756105422974,\n",
              "  0.6841756105422974,\n",
              "  0.6841756105422974,\n",
              "  0.6841756105422974]}"
            ]
          },
          "metadata": {
            "tags": []
          },
          "execution_count": 109
        }
      ]
    },
    {
      "cell_type": "markdown",
      "metadata": {
        "id": "RLCxNVZ3dywn"
      },
      "source": [
        "### Set project name, bucket name, authenticate to GCP"
      ]
    },
    {
      "cell_type": "code",
      "metadata": {
        "id": "ysvC9aIF7JlC",
        "colab": {
          "base_uri": "https://localhost:8080/"
        },
        "outputId": "b788a3cb-9825-42b6-9452-8aaff5c2ba62"
      },
      "source": [
        "PROJECT_ID = \"<INSERT_PROJECT_ID>\"\n",
        "BUCKET_NAME = \"<INSERT_BUCKET_NAME>\"\n",
        "REGION = \"<INSERT_REGION>\"\n",
        "\n",
        "! gcloud config set project $PROJECT_ID\n",
        "! echo $PROJECT_ID"
      ],
      "execution_count": null,
      "outputs": [
        {
          "output_type": "stream",
          "text": [
            "Updated property [core/project].\n",
            "\u001b[1;33mWARNING:\u001b[0m You do not appear to have access to project [gcp-intro-1] or it does not exist.\n",
            "gcp-intro-1\n"
          ],
          "name": "stdout"
        }
      ]
    },
    {
      "cell_type": "code",
      "metadata": {
        "id": "lWypRYHc7Xv4"
      },
      "source": [
        "import sys\n",
        "\n",
        "# if 'google.colab' in sys.modules:\n",
        "from google.colab import auth as google_auth\n",
        "google_auth.authenticate_user()\n",
        "# else:\n",
        "#   %env GOOGLE_APPLICATION_CREDENTIALS ''"
      ],
      "execution_count": null,
      "outputs": []
    },
    {
      "cell_type": "code",
      "metadata": {
        "colab": {
          "base_uri": "https://localhost:8080/"
        },
        "id": "aCZrBKlzBAgy",
        "outputId": "3b7d07f3-b251-427f-a8b2-416595c56e06"
      },
      "source": [
        "# authenticate_user didnt work for me, so i had to login\n",
        "! gcloud auth login"
      ],
      "execution_count": null,
      "outputs": [
        {
          "output_type": "stream",
          "text": [
            "Go to the following link in your browser:\n",
            "\n",
            "    https://accounts.google.com/o/oauth2/auth?response_type=code&client_id=32555940559.apps.googleusercontent.com&redirect_uri=urn%3Aietf%3Awg%3Aoauth%3A2.0%3Aoob&scope=openid+https%3A%2F%2Fwww.googleapis.com%2Fauth%2Fuserinfo.email+https%3A%2F%2Fwww.googleapis.com%2Fauth%2Fcloud-platform+https%3A%2F%2Fwww.googleapis.com%2Fauth%2Fappengine.admin+https%3A%2F%2Fwww.googleapis.com%2Fauth%2Fcompute+https%3A%2F%2Fwww.googleapis.com%2Fauth%2Faccounts.reauth&state=OErb06out8IS4mF2kuJnVECoZ9RXxo&prompt=consent&access_type=offline&code_challenge=68tRYocV2Ifan00vMEan4FDwL_jG_KbT3iBoGA78644&code_challenge_method=S256\n",
            "\n",
            "Enter verification code: 4/1AY0e-g4UxlpkQnSzI4B08LMWvr9dEmsTLSe0-fADuwtho9JEvuVGya2XroY\n",
            "\n",
            "You are now logged in as [nebiogludilan@gmail.com].\n",
            "Your current project is [gcp-intro-1].  You can change this setting by running:\n",
            "  $ gcloud config set project PROJECT_ID\n"
          ],
          "name": "stdout"
        }
      ]
    },
    {
      "cell_type": "code",
      "metadata": {
        "colab": {
          "base_uri": "https://localhost:8080/"
        },
        "id": "7y0NZxeGAbC6",
        "outputId": "18de9753-88a2-426e-8069-aee7c07838c3"
      },
      "source": [
        "! gcloud projects list"
      ],
      "execution_count": null,
      "outputs": [
        {
          "output_type": "stream",
          "text": [
            "PROJECT_ID              NAME         PROJECT_NUMBER\n",
            "key-transformer-296313  gcp-intro-1  841478298350\n"
          ],
          "name": "stdout"
        }
      ]
    },
    {
      "cell_type": "code",
      "metadata": {
        "colab": {
          "base_uri": "https://localhost:8080/"
        },
        "id": "p29JWUjNBHiO",
        "outputId": "140a5a59-a278-4052-8c93-07a306cfdf05"
      },
      "source": [
        "! gcloud config set project $PROJECT_ID"
      ],
      "execution_count": null,
      "outputs": [
        {
          "output_type": "stream",
          "text": [
            "Updated property [core/project].\n"
          ],
          "name": "stdout"
        }
      ]
    },
    {
      "cell_type": "code",
      "metadata": {
        "id": "01qWORsr7dxM",
        "colab": {
          "base_uri": "https://localhost:8080/"
        },
        "outputId": "e3b9c4c0-e6e6-4d0a-eb65-432377363f7f"
      },
      "source": [
        "# create bucket manually because it doesnt let you create it through cmd line\n",
        "!gsutil mb -p $PROJECT_ID -l $REGION gs://$BUCKET_NAME\n",
        "!gsutil ls -al gs://$BUCKET_NAME"
      ],
      "execution_count": null,
      "outputs": [
        {
          "output_type": "stream",
          "text": [
            "Creating gs://dilo-test-ml-2/...\n",
            "AccessDeniedException: 403 The project to be billed is associated with a closed billing account.\n"
          ],
          "name": "stdout"
        }
      ]
    },
    {
      "cell_type": "code",
      "metadata": {
        "id": "YY2_Lb2A_7fZ"
      },
      "source": [
        "JOB_DIR = 'gs://' + BUCKET_NAME + '/mcgilldemo2'"
      ],
      "execution_count": null,
      "outputs": []
    },
    {
      "cell_type": "markdown",
      "metadata": {
        "id": "kCjCaFB1d2lT"
      },
      "source": [
        "### Deploy Model"
      ]
    },
    {
      "cell_type": "code",
      "metadata": {
        "colab": {
          "base_uri": "https://localhost:8080/"
        },
        "id": "qMEPqhAV_-d-",
        "outputId": "be826e59-e372-4f5a-f903-f90a7acdcd34"
      },
      "source": [
        "export_path = tf.keras.models.save_model(model, JOB_DIR + '/keras_export')\n",
        "print(\"Model exported to: \", export_path)"
      ],
      "execution_count": null,
      "outputs": [
        {
          "output_type": "stream",
          "text": [
            "INFO:tensorflow:Assets written to: gs://dilo-test-ml-2/mcgilldemo2/keras_export/assets\n",
            "Model exported to:  None\n"
          ],
          "name": "stdout"
        }
      ]
    },
    {
      "cell_type": "code",
      "metadata": {
        "colab": {
          "base_uri": "https://localhost:8080/"
        },
        "id": "J0dGtpbsAD-O",
        "outputId": "c7100fde-a110-426c-f60f-32f9bd3e583b"
      },
      "source": [
        "MODEL_NAME = \"<INSERT_MODEL_NAME>\"\n",
        "\n",
        "! gcloud ai-platform models create $MODEL_NAME --regions $REGION\n"
      ],
      "execution_count": null,
      "outputs": [
        {
          "output_type": "stream",
          "text": [
            "Using endpoint [https://ml.googleapis.com/]\n",
            "Created ml engine model [projects/key-transformer-296313/models/mcgilldemo2].\n"
          ],
          "name": "stdout"
        }
      ]
    },
    {
      "cell_type": "code",
      "metadata": {
        "colab": {
          "base_uri": "https://localhost:8080/"
        },
        "id": "lE-vSJ_kBedb",
        "outputId": "3a85eaa0-1c9e-44f1-c037-8831d234e46c"
      },
      "source": [
        "MODEL_VERSION = \"v1\"\n",
        "KERAS_EXPORT_DIRS = ! gsutil ls $JOB_DIR/keras_export/\n",
        "SAVED_MODEL_PATH = KERAS_EXPORT_DIRS[0]\n",
        "\n",
        "! gcloud ai-platform versions create $MODEL_VERSION \\\n",
        "  --model $MODEL_NAME \\\n",
        "  --runtime-version 1.13 \\\n",
        "  --python-version 3.5 \\\n",
        "  --framework tensorflow \\\n",
        "  --origin $SAVED_MODEL_PATH"
      ],
      "execution_count": null,
      "outputs": [
        {
          "output_type": "stream",
          "text": [
            "Using endpoint [https://ml.googleapis.com/]\n"
          ],
          "name": "stdout"
        }
      ]
    },
    {
      "cell_type": "markdown",
      "metadata": {
        "id": "foQ-utDTd4-w"
      },
      "source": [
        "### Test Model"
      ]
    },
    {
      "cell_type": "code",
      "metadata": {
        "colab": {
          "base_uri": "https://localhost:8080/"
        },
        "id": "zWtf3g5fDbu0",
        "outputId": "ba5a8d00-94e7-47d2-b550-8f8d952d160a"
      },
      "source": [
        "X[0]"
      ],
      "execution_count": null,
      "outputs": [
        {
          "output_type": "execute_result",
          "data": {
            "text/plain": [
              "array([  58, 2143,    5,  261,    1,   -1,    0,    0,    0,    0,    0,\n",
              "          1,    0,    0,    0,    0,    0,    0,    0,    0,    1,    0,\n",
              "          0,    0,    1,    0,    1,    0,    0,    1,    1,    0,    0,\n",
              "          0,    1,    0,    0,    0,    0,    0,    0,    0,    0,    1,\n",
              "          0,    0,    0,    0,    0,    0,    1], dtype=int32)"
            ]
          },
          "metadata": {
            "tags": []
          },
          "execution_count": 123
        }
      ]
    },
    {
      "cell_type": "code",
      "metadata": {
        "colab": {
          "base_uri": "https://localhost:8080/"
        },
        "id": "7L3M8-7ZC8e2",
        "outputId": "1fe4ec42-d493-4411-958a-60113ae47c0a"
      },
      "source": [
        "%%bash\n",
        "rm prediction_input.json\n",
        "touch prediction_input.json\n",
        "echo \"[58, 2143, 5, 261, 1, -1, 0, 0, 0, 0, 0, 1, 0, 0, 0, 0, 0, 0, 0, 0, 1, 0, 0, 0, 1, 0, 1, 0, 0, 1, 1, 0, 0, 0, 1, 0, 0, 0, 0, 0, 0, 0, 0, 1, 0, 0, 0, 0, 0, 0, 1]\" >> prediction_input.json\n",
        "\n",
        "cat prediction_input.json"
      ],
      "execution_count": null,
      "outputs": [
        {
          "output_type": "stream",
          "text": [
            "[58, 2143, 5, 261, 1, -1, 0, 0, 0, 0, 0, 1, 0, 0, 0, 0, 0, 0, 0, 0, 1, 0, 0, 0, 1, 0, 1, 0, 0, 1, 1, 0, 0, 0, 1, 0, 0, 0, 0, 0, 0, 0, 0, 1, 0, 0, 0, 0, 0, 0, 1]\n"
          ],
          "name": "stdout"
        }
      ]
    },
    {
      "cell_type": "code",
      "metadata": {
        "colab": {
          "base_uri": "https://localhost:8080/"
        },
        "id": "ydsGwODcDW9h",
        "outputId": "1d9c80d9-1a4f-4bc6-be2a-6eabe34a101b"
      },
      "source": [
        "! gcloud ai-platform predict \\\n",
        "  --model $MODEL_NAME \\\n",
        "  --version $MODEL_VERSION \\\n",
        "  --json-instances prediction_input.json"
      ],
      "execution_count": null,
      "outputs": [
        {
          "output_type": "stream",
          "text": [
            "Using endpoint [https://ml.googleapis.com/]\n",
            "DENSE_9\n",
            "[1.0]\n"
          ],
          "name": "stdout"
        }
      ]
    },
    {
      "cell_type": "code",
      "metadata": {
        "colab": {
          "base_uri": "https://localhost:8080/"
        },
        "id": "Siy1wSMaD7Ir",
        "outputId": "e4c6a1f3-4a77-40c2-f095-44c680688aae"
      },
      "source": [
        "y[0]"
      ],
      "execution_count": null,
      "outputs": [
        {
          "output_type": "execute_result",
          "data": {
            "text/plain": [
              "array([0], dtype=int32)"
            ]
          },
          "metadata": {
            "tags": []
          },
          "execution_count": 126
        }
      ]
    },
    {
      "cell_type": "markdown",
      "metadata": {
        "id": "joobGECecu6k"
      },
      "source": [
        "### DELETE"
      ]
    },
    {
      "cell_type": "code",
      "metadata": {
        "colab": {
          "base_uri": "https://localhost:8080/"
        },
        "id": "LVh4xxJDafll",
        "outputId": "1bab736d-8607-480b-957f-25fc6cb15c07"
      },
      "source": [
        "# TO DELETE BUCKET/model\n",
        "! gcloud ai-platform versions delete $MODEL_VERSION --quiet --model $MODEL_NAME\n",
        "! gcloud ai-platform models delete $MODEL_NAME --quiet\n",
        "! gsutil rm -r gs://$BUCKET_NAME"
      ],
      "execution_count": null,
      "outputs": [
        {
          "output_type": "stream",
          "text": [
            "Using endpoint [https://ml.googleapis.com/]\n",
            "Using endpoint [https://ml.googleapis.com/]\n",
            "Removing gs://dilo-test-ml-2/mcgilldemo/#1605988802511673...\n",
            "Removing gs://dilo-test-ml-2/mcgilldemo/keras_export/#1605988803111147...\n",
            "Removing gs://dilo-test-ml-2/mcgilldemo/keras_export/assets/#1605988809010325...\n",
            "Removing gs://dilo-test-ml-2/mcgilldemo/keras_export/saved_model.pb#1605988889412132...\n",
            "/ [4 objects]                                                                   \n",
            "==> NOTE: You are performing a sequence of gsutil operations that may\n",
            "run significantly faster if you instead use gsutil -m rm ... Please\n",
            "see the -m section under \"gsutil help options\" for further information\n",
            "about when gsutil -m can be advantageous.\n",
            "\n",
            "Removing gs://dilo-test-ml-2/mcgilldemo/keras_export/variables/#1605988803710531...\n",
            "Removing gs://dilo-test-ml-2/mcgilldemo/keras_export/variables/variables.data-00000-of-00001#1605988888272842...\n",
            "Removing gs://dilo-test-ml-2/mcgilldemo/keras_export/variables/variables.index#1605988888635283...\n",
            "/ [7 objects]                                                                   \n",
            "Operation completed over 7 objects.                                              \n",
            "Removing gs://dilo-test-ml-2/...\n"
          ],
          "name": "stdout"
        }
      ]
    }
  ]
}